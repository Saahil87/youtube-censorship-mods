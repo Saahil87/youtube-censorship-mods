{
 "cells": [
  {
   "cell_type": "code",
   "execution_count": 1,
   "metadata": {},
   "outputs": [
    {
     "name": "stderr",
     "output_type": "stream",
     "text": [
      "C:\\Users\\hiran\\anaconda3\\lib\\site-packages\\sklearn\\base.py:329: UserWarning: Trying to unpickle estimator TfidfTransformer from version 1.0.1 when using version 1.0.2. This might lead to breaking code or invalid results. Use at your own risk. For more info please refer to:\n",
      "https://scikit-learn.org/stable/modules/model_persistence.html#security-maintainability-limitations\n",
      "  warnings.warn(\n",
      "C:\\Users\\hiran\\anaconda3\\lib\\site-packages\\sklearn\\base.py:329: UserWarning: Trying to unpickle estimator TfidfVectorizer from version 1.0.1 when using version 1.0.2. This might lead to breaking code or invalid results. Use at your own risk. For more info please refer to:\n",
      "https://scikit-learn.org/stable/modules/model_persistence.html#security-maintainability-limitations\n",
      "  warnings.warn(\n",
      "C:\\Users\\hiran\\anaconda3\\lib\\site-packages\\sklearn\\base.py:329: UserWarning: Trying to unpickle estimator LinearSVC from version 1.0.1 when using version 1.0.2. This might lead to breaking code or invalid results. Use at your own risk. For more info please refer to:\n",
      "https://scikit-learn.org/stable/modules/model_persistence.html#security-maintainability-limitations\n",
      "  warnings.warn(\n",
      "C:\\Users\\hiran\\anaconda3\\lib\\site-packages\\sklearn\\base.py:329: UserWarning: Trying to unpickle estimator _SigmoidCalibration from version 1.0.1 when using version 1.0.2. This might lead to breaking code or invalid results. Use at your own risk. For more info please refer to:\n",
      "https://scikit-learn.org/stable/modules/model_persistence.html#security-maintainability-limitations\n",
      "  warnings.warn(\n",
      "C:\\Users\\hiran\\anaconda3\\lib\\site-packages\\sklearn\\base.py:329: UserWarning: Trying to unpickle estimator CalibratedClassifierCV from version 1.0.1 when using version 1.0.2. This might lead to breaking code or invalid results. Use at your own risk. For more info please refer to:\n",
      "https://scikit-learn.org/stable/modules/model_persistence.html#security-maintainability-limitations\n",
      "  warnings.warn(\n"
     ]
    }
   ],
   "source": [
    "import pandas as pd\n",
    "import json\n",
    "import numpy as np\n",
    "from datetime import datetime\n",
    "from sklearn.preprocessing import MultiLabelBinarizer\n",
    "from sklearn.model_selection import train_test_split\n",
    "import os\n",
    "from os import listdir\n",
    "from os.path import isfile, join\n",
    "import matplotlib\n",
    "import numpy as np\n",
    "import matplotlib.pyplot as plt\n",
    "from profanity_check import predict, predict_prob\n",
    "\n",
    "%matplotlib inline\n",
    "\n",
    "pd.set_option('display.max_rows', 500)\n",
    "pd.set_option('display.max_columns', 500)\n",
    "pd.set_option('display.width', 1000)"
   ]
  },
  {
   "cell_type": "code",
   "execution_count": 2,
   "metadata": {},
   "outputs": [],
   "source": [
    "date_today = datetime.today().strftime(\"%Y-%m-%d\")"
   ]
  },
  {
   "cell_type": "markdown",
   "metadata": {},
   "source": [
    "***\n",
    "# Channel data"
   ]
  },
  {
   "cell_type": "code",
   "execution_count": 3,
   "metadata": {},
   "outputs": [],
   "source": [
    "temp = []\n",
    "with open('channel_data (1).json', 'r', encoding='utf8') as f:\n",
    "    for line in f:\n",
    "        temp.append(json.loads(line))\n",
    "channel_df = pd.DataFrame(temp)"
   ]
  },
  {
   "cell_type": "code",
   "execution_count": 4,
   "metadata": {},
   "outputs": [
    {
     "name": "stdout",
     "output_type": "stream",
     "text": [
      "(7181, 11)\n"
     ]
    }
   ],
   "source": [
    "print(channel_df.shape)"
   ]
  },
  {
   "cell_type": "code",
   "execution_count": 5,
   "metadata": {},
   "outputs": [
    {
     "data": {
      "text/plain": [
       "None                                                                                                                                                                     7178\n",
       "Anti-trump campaign run by constitutional conservatives with content supporting biden in the 2020 election. Note:  classifications are based on content not creators.       1\n",
       "Content primarily critical of woke, THOT's, and censorship.                                                                                                                 1\n",
       "This is the channel that had the senator who let people into the capitol building.                                                                                          1\n",
       "Name: publicReviewerNotes, dtype: int64"
      ]
     },
     "execution_count": 5,
     "metadata": {},
     "output_type": "execute_result"
    }
   ],
   "source": [
    "# useless content\n",
    "channel_df['publicReviewerNotes'].value_counts(dropna=False)"
   ]
  },
  {
   "cell_type": "code",
   "execution_count": 6,
   "metadata": {},
   "outputs": [
    {
     "data": {
      "text/plain": [
       "None                                                       7176\n",
       "Creator disputes this classification                          2\n",
       "Disputed by creator who identifies as classical liberal       1\n",
       "                                                              1\n",
       "Based                                                         1\n",
       "Name: publicCreatorNotes, dtype: int64"
      ]
     },
     "execution_count": 6,
     "metadata": {},
     "output_type": "execute_result"
    }
   ],
   "source": [
    "# useless content\n",
    "channel_df['publicCreatorNotes'].value_counts(dropna=False)"
   ]
  },
  {
   "cell_type": "code",
   "execution_count": 7,
   "metadata": {},
   "outputs": [],
   "source": [
    "del channel_df['publicCreatorNotes']\n",
    "del channel_df['publicReviewerNotes']"
   ]
  },
  {
   "cell_type": "code",
   "execution_count": 8,
   "metadata": {},
   "outputs": [
    {
     "data": {
      "text/html": [
       "<div>\n",
       "<style scoped>\n",
       "    .dataframe tbody tr th:only-of-type {\n",
       "        vertical-align: middle;\n",
       "    }\n",
       "\n",
       "    .dataframe tbody tr th {\n",
       "        vertical-align: top;\n",
       "    }\n",
       "\n",
       "    .dataframe thead th {\n",
       "        text-align: right;\n",
       "    }\n",
       "</style>\n",
       "<table border=\"1\" class=\"dataframe\">\n",
       "  <thead>\n",
       "    <tr style=\"text-align: right;\">\n",
       "      <th></th>\n",
       "      <th>channelId</th>\n",
       "      <th>channelTitle</th>\n",
       "      <th>tags</th>\n",
       "      <th>lr</th>\n",
       "      <th>logoUrl</th>\n",
       "      <th>channelViews</th>\n",
       "      <th>subs</th>\n",
       "      <th>reviewsHuman</th>\n",
       "      <th>description</th>\n",
       "    </tr>\n",
       "  </thead>\n",
       "  <tbody>\n",
       "    <tr>\n",
       "      <th>0</th>\n",
       "      <td>UC9k-yiEpRHMNVOnOi_aQK8w</td>\n",
       "      <td>Inside Edition</td>\n",
       "      <td>[Mainstream News]</td>\n",
       "      <td>C</td>\n",
       "      <td>https://yt3.ggpht.com/ytc/AKedOLQ6jUcMzk2GqRxL...</td>\n",
       "      <td>17774168927</td>\n",
       "      <td>10300000.0</td>\n",
       "      <td>1</td>\n",
       "      <td>Inside Edition is television's longest-running...</td>\n",
       "    </tr>\n",
       "    <tr>\n",
       "      <th>1</th>\n",
       "      <td>UC8-Th83bH_thdKZDJCrn88g</td>\n",
       "      <td>The Tonight Show Starring Jimmy Fallon</td>\n",
       "      <td>[LateNightTalkShow, PartisanLeft, SocialJustice]</td>\n",
       "      <td>L</td>\n",
       "      <td>https://yt3.ggpht.com/Lp9cu-xgKL0QYxdJ268CaZ63...</td>\n",
       "      <td>15524525324</td>\n",
       "      <td>29200000.0</td>\n",
       "      <td>1</td>\n",
       "      <td>The Tonight Show Starring Jimmy Fallon feature...</td>\n",
       "    </tr>\n",
       "    <tr>\n",
       "      <th>2</th>\n",
       "      <td>UCupvZG-5ko_eiXAupbDfxWw</td>\n",
       "      <td>CNN</td>\n",
       "      <td>[Mainstream News, PartisanLeft]</td>\n",
       "      <td>L</td>\n",
       "      <td>https://yt3.ggpht.com/ytc/AKedOLRTLcDi_bPCV2bB...</td>\n",
       "      <td>11114157650</td>\n",
       "      <td>13600000.0</td>\n",
       "      <td>3</td>\n",
       "      <td>CNN operates as a division of Turner Broadcast...</td>\n",
       "    </tr>\n",
       "    <tr>\n",
       "      <th>3</th>\n",
       "      <td>UCBi2mrWuNuyYy4gbM6fU18Q</td>\n",
       "      <td>ABC News</td>\n",
       "      <td>[Mainstream News]</td>\n",
       "      <td>C</td>\n",
       "      <td>https://yt3.ggpht.com/Iv4QbKjK63MB70UvQ22FnTWF...</td>\n",
       "      <td>10963074796</td>\n",
       "      <td>12800000.0</td>\n",
       "      <td>3</td>\n",
       "      <td>ABC News is your daily news outlet for breakin...</td>\n",
       "    </tr>\n",
       "    <tr>\n",
       "      <th>4</th>\n",
       "      <td>UCXIJgqnII2ZOINSWNOGFThA</td>\n",
       "      <td>Fox News</td>\n",
       "      <td>[Mainstream News, PartisanRight]</td>\n",
       "      <td>R</td>\n",
       "      <td>https://yt3.ggpht.com/ytc/AKedOLQcyBtNBVCDXOr5...</td>\n",
       "      <td>10499411936</td>\n",
       "      <td>9160000.0</td>\n",
       "      <td>3</td>\n",
       "      <td>FOX News Channel (FNC) is a 24-hour all-encomp...</td>\n",
       "    </tr>\n",
       "    <tr>\n",
       "      <th>...</th>\n",
       "      <td>...</td>\n",
       "      <td>...</td>\n",
       "      <td>...</td>\n",
       "      <td>...</td>\n",
       "      <td>...</td>\n",
       "      <td>...</td>\n",
       "      <td>...</td>\n",
       "      <td>...</td>\n",
       "      <td>...</td>\n",
       "    </tr>\n",
       "    <tr>\n",
       "      <th>7176</th>\n",
       "      <td>UC3FqYK9UCKtmcTwSYo7mwpw</td>\n",
       "      <td>Foundational Future</td>\n",
       "      <td>[PartisanRight, WhiteIdentitarian]</td>\n",
       "      <td>R</td>\n",
       "      <td>https://yt3.ggpht.com/ytc/AKedOLQSULHavfZdol1T...</td>\n",
       "      <td>0</td>\n",
       "      <td>10500.0</td>\n",
       "      <td>1</td>\n",
       "      <td>A nation that forgets its past has no future.</td>\n",
       "    </tr>\n",
       "    <tr>\n",
       "      <th>7177</th>\n",
       "      <td>UCFyLpcPQTl8x0P5bWuJUJwA</td>\n",
       "      <td>Angry Little Girl</td>\n",
       "      <td>[AntiTheist]</td>\n",
       "      <td>C</td>\n",
       "      <td>https://yt3.ggpht.com/ytc/AKedOLTrvrWiEbJo2uxv...</td>\n",
       "      <td>0</td>\n",
       "      <td>11000.0</td>\n",
       "      <td>0</td>\n",
       "      <td>The reports of my death are greatly exaggerated.</td>\n",
       "    </tr>\n",
       "    <tr>\n",
       "      <th>7178</th>\n",
       "      <td>UCDmOgumXzPp-JEMHuEqobqA</td>\n",
       "      <td>The Word Warrior</td>\n",
       "      <td>[PartisanRight, ReligiousConservative]</td>\n",
       "      <td>R</td>\n",
       "      <td>https://yt3.ggpht.com/ytc/AKedOLSrkc2YjjOYOaEE...</td>\n",
       "      <td>0</td>\n",
       "      <td>10600.0</td>\n",
       "      <td>0</td>\n",
       "      <td></td>\n",
       "    </tr>\n",
       "    <tr>\n",
       "      <th>7179</th>\n",
       "      <td>UCPSWJqJXf1llYh2tHBihlVw</td>\n",
       "      <td>Anonymous</td>\n",
       "      <td>[Conspiracy]</td>\n",
       "      <td>R</td>\n",
       "      <td>https://yt3.ggpht.com/d70lkhqS4-RlK1gSJXyg-fiX...</td>\n",
       "      <td>0</td>\n",
       "      <td>342000.0</td>\n",
       "      <td>0</td>\n",
       "      <td>\\n</td>\n",
       "    </tr>\n",
       "    <tr>\n",
       "      <th>7180</th>\n",
       "      <td>UCoCuOwpNQ39uaEU76cy_0qg</td>\n",
       "      <td>Kronos</td>\n",
       "      <td>[AntiSJW, PartisanRight]</td>\n",
       "      <td>R</td>\n",
       "      <td>https://yt3.ggpht.com/ytc/AKedOLS8J95HJAECTrEw...</td>\n",
       "      <td>0</td>\n",
       "      <td>18500.0</td>\n",
       "      <td>3</td>\n",
       "      <td></td>\n",
       "    </tr>\n",
       "  </tbody>\n",
       "</table>\n",
       "<p>7181 rows × 9 columns</p>\n",
       "</div>"
      ],
      "text/plain": [
       "                     channelId                            channelTitle                                              tags lr                                            logoUrl  channelViews        subs  reviewsHuman                                        description\n",
       "0     UC9k-yiEpRHMNVOnOi_aQK8w                          Inside Edition                                 [Mainstream News]  C  https://yt3.ggpht.com/ytc/AKedOLQ6jUcMzk2GqRxL...   17774168927  10300000.0             1  Inside Edition is television's longest-running...\n",
       "1     UC8-Th83bH_thdKZDJCrn88g  The Tonight Show Starring Jimmy Fallon  [LateNightTalkShow, PartisanLeft, SocialJustice]  L  https://yt3.ggpht.com/Lp9cu-xgKL0QYxdJ268CaZ63...   15524525324  29200000.0             1  The Tonight Show Starring Jimmy Fallon feature...\n",
       "2     UCupvZG-5ko_eiXAupbDfxWw                                     CNN                   [Mainstream News, PartisanLeft]  L  https://yt3.ggpht.com/ytc/AKedOLRTLcDi_bPCV2bB...   11114157650  13600000.0             3  CNN operates as a division of Turner Broadcast...\n",
       "3     UCBi2mrWuNuyYy4gbM6fU18Q                                ABC News                                 [Mainstream News]  C  https://yt3.ggpht.com/Iv4QbKjK63MB70UvQ22FnTWF...   10963074796  12800000.0             3  ABC News is your daily news outlet for breakin...\n",
       "4     UCXIJgqnII2ZOINSWNOGFThA                                Fox News                  [Mainstream News, PartisanRight]  R  https://yt3.ggpht.com/ytc/AKedOLQcyBtNBVCDXOr5...   10499411936   9160000.0             3  FOX News Channel (FNC) is a 24-hour all-encomp...\n",
       "...                        ...                                     ...                                               ... ..                                                ...           ...         ...           ...                                                ...\n",
       "7176  UC3FqYK9UCKtmcTwSYo7mwpw                     Foundational Future                [PartisanRight, WhiteIdentitarian]  R  https://yt3.ggpht.com/ytc/AKedOLQSULHavfZdol1T...             0     10500.0             1      A nation that forgets its past has no future.\n",
       "7177  UCFyLpcPQTl8x0P5bWuJUJwA                       Angry Little Girl                                      [AntiTheist]  C  https://yt3.ggpht.com/ytc/AKedOLTrvrWiEbJo2uxv...             0     11000.0             0   The reports of my death are greatly exaggerated.\n",
       "7178  UCDmOgumXzPp-JEMHuEqobqA                        The Word Warrior            [PartisanRight, ReligiousConservative]  R  https://yt3.ggpht.com/ytc/AKedOLSrkc2YjjOYOaEE...             0     10600.0             0                                                   \n",
       "7179  UCPSWJqJXf1llYh2tHBihlVw                               Anonymous                                      [Conspiracy]  R  https://yt3.ggpht.com/d70lkhqS4-RlK1gSJXyg-fiX...             0    342000.0             0                                                 \\n\n",
       "7180  UCoCuOwpNQ39uaEU76cy_0qg                                  Kronos                          [AntiSJW, PartisanRight]  R  https://yt3.ggpht.com/ytc/AKedOLS8J95HJAECTrEw...             0     18500.0             3                                                   \n",
       "\n",
       "[7181 rows x 9 columns]"
      ]
     },
     "execution_count": 8,
     "metadata": {},
     "output_type": "execute_result"
    }
   ],
   "source": [
    "channel_df"
   ]
  },
  {
   "cell_type": "code",
   "execution_count": 9,
   "metadata": {},
   "outputs": [
    {
     "data": {
      "image/png": "[encoded data removed]",
      "text/plain": [
       "<Figure size 504x360 with 1 Axes>"
      ]
     },
     "metadata": {
      "needs_background": "light"
     },
     "output_type": "display_data"
    }
   ],
   "source": [
    "# Number of channels based on Center preference\n",
    "channel_categories = channel_df.groupby('lr').count()[['channelId']].sort_values(by='channelId')\n",
    "\n",
    "categories = list(channel_categories.index)\n",
    "no_of_channels = list(channel_categories['channelId'])\n",
    "\n",
    "channel_centeredness = plt.figure(figsize=(7, 5))\n",
    "ax = channel_centeredness.add_axes([0,0,1,1])\n",
    "ax.bar(categories, no_of_channels, color=['blue', 'purple', 'red'])\n",
    "plt.title('Number of channels based on Center preference')\n",
    "plt.savefig('Number of channels based on Center preference.png',bbox_inches='tight', dpi=150)\n",
    "plt.show()"
   ]
  },
  {
   "cell_type": "code",
   "execution_count": 10,
   "metadata": {},
   "outputs": [
    {
     "data": {
      "image/png": "[encoded data removed]",
      "text/plain": [
       "<Figure size 504x360 with 1 Axes>"
      ]
     },
     "metadata": {
      "needs_background": "light"
     },
     "output_type": "display_data"
    }
   ],
   "source": [
    "# Number of channels based on tag\n",
    "channel_tags = channel_df.explode('tags').groupby('tags').count()[['channelId']].sort_values(by='channelId', ascending=False)\n",
    "\n",
    "tags = channel_tags.index.str.replace(' ', '')\n",
    "no_of_channels = list(channel_tags['channelId'])\n",
    "\n",
    "fig = plt.figure(figsize=(7, 5))\n",
    "ax = fig.add_axes([0,0,1,1])\n",
    "ax.bar(tags, no_of_channels)\n",
    "plt.xticks(rotation = 90)\n",
    "plt.savefig('Number of channels based on Channel Tags.png',bbox_inches='tight', dpi=150)\n",
    "plt.show()"
   ]
  },
  {
   "cell_type": "markdown",
   "metadata": {},
   "source": [
    "***\n",
    "# Removed videos data"
   ]
  },
  {
   "cell_type": "code",
   "execution_count": 11,
   "metadata": {},
   "outputs": [],
   "source": [
    "# import removed channels data\n",
    "df_removed = pd.read_csv(\n",
    "    'removed_videos_2021.csv', \n",
    "    encoding='utf8', \n",
    "    low_memory=False, \n",
    "    lineterminator='\\n', \n",
    "    index_col=0)"
   ]
  },
  {
   "cell_type": "code",
   "execution_count": 12,
   "metadata": {},
   "outputs": [
    {
     "name": "stdout",
     "output_type": "stream",
     "text": [
      "(552651, 13)\n",
      "['channelId', 'channelTitle', 'copyrightHolder', 'durationSecs', 'errorType', 'errorUpdated', 'hasCaptions', 'lastSeen', 'platform', 'uploadDate', 'videoId', 'videoTitle', 'videoViews']\n"
     ]
    }
   ],
   "source": [
    "# removed channels descriptive\n",
    "print(df_removed.shape)\n",
    "print(sorted(df_removed.columns.tolist()))"
   ]
  },
  {
   "cell_type": "code",
   "execution_count": 13,
   "metadata": {},
   "outputs": [
    {
     "data": {
      "text/plain": [
       "YouTube    552651\n",
       "Name: platform, dtype: int64"
      ]
     },
     "execution_count": 13,
     "metadata": {},
     "output_type": "execute_result"
    }
   ],
   "source": [
    "df_removed['platform'].value_counts()"
   ]
  },
  {
   "cell_type": "code",
   "execution_count": 14,
   "metadata": {},
   "outputs": [],
   "source": [
    "del df_removed['platform']"
   ]
  },
  {
   "cell_type": "markdown",
   "metadata": {},
   "source": [
    "#### Minor data adjustments"
   ]
  },
  {
   "cell_type": "code",
   "execution_count": 15,
   "metadata": {},
   "outputs": [
    {
     "data": {
      "text/plain": [
       "(552651, 13)"
      ]
     },
     "execution_count": 15,
     "metadata": {},
     "output_type": "execute_result"
    }
   ],
   "source": [
    "# change to datetime\n",
    "df_removed['uploadDate'] = pd.to_datetime(df_removed['uploadDate'])\n",
    "\n",
    "# add signifier for removed\n",
    "df_removed['removed'] = True\n",
    "\n",
    "# shape\n",
    "df_removed.shape"
   ]
  },
  {
   "cell_type": "code",
   "execution_count": 16,
   "metadata": {},
   "outputs": [
    {
     "data": {
      "text/html": [
       "<div>\n",
       "<style scoped>\n",
       "    .dataframe tbody tr th:only-of-type {\n",
       "        vertical-align: middle;\n",
       "    }\n",
       "\n",
       "    .dataframe tbody tr th {\n",
       "        vertical-align: top;\n",
       "    }\n",
       "\n",
       "    .dataframe thead th {\n",
       "        text-align: right;\n",
       "    }\n",
       "</style>\n",
       "<table border=\"1\" class=\"dataframe\">\n",
       "  <thead>\n",
       "    <tr style=\"text-align: right;\">\n",
       "      <th></th>\n",
       "      <th>videoId</th>\n",
       "    </tr>\n",
       "    <tr>\n",
       "      <th>errorType</th>\n",
       "      <th></th>\n",
       "    </tr>\n",
       "  </thead>\n",
       "  <tbody>\n",
       "    <tr>\n",
       "      <th>Channel Removed</th>\n",
       "      <td>305358</td>\n",
       "    </tr>\n",
       "    <tr>\n",
       "      <th>Unavailable</th>\n",
       "      <td>83294</td>\n",
       "    </tr>\n",
       "    <tr>\n",
       "      <th>Removed by uploader</th>\n",
       "      <td>80705</td>\n",
       "    </tr>\n",
       "    <tr>\n",
       "      <th>Private</th>\n",
       "      <td>70903</td>\n",
       "    </tr>\n",
       "    <tr>\n",
       "      <th>Copyright claim</th>\n",
       "      <td>8102</td>\n",
       "    </tr>\n",
       "    <tr>\n",
       "      <th>Community guidelines</th>\n",
       "      <td>2318</td>\n",
       "    </tr>\n",
       "    <tr>\n",
       "      <th>Terms of service</th>\n",
       "      <td>1166</td>\n",
       "    </tr>\n",
       "    <tr>\n",
       "      <th>Hate speech</th>\n",
       "      <td>423</td>\n",
       "    </tr>\n",
       "    <tr>\n",
       "      <th>Harassment and bullying</th>\n",
       "      <td>373</td>\n",
       "    </tr>\n",
       "    <tr>\n",
       "      <th>Sexual content</th>\n",
       "      <td>9</td>\n",
       "    </tr>\n",
       "  </tbody>\n",
       "</table>\n",
       "</div>"
      ],
      "text/plain": [
       "                         videoId\n",
       "errorType                       \n",
       "Channel Removed           305358\n",
       "Unavailable                83294\n",
       "Removed by uploader        80705\n",
       "Private                    70903\n",
       "Copyright claim             8102\n",
       "Community guidelines        2318\n",
       "Terms of service            1166\n",
       "Hate speech                  423\n",
       "Harassment and bullying      373\n",
       "Sexual content                 9"
      ]
     },
     "execution_count": 16,
     "metadata": {},
     "output_type": "execute_result"
    }
   ],
   "source": [
    "df_removed.groupby('errorType').count()[['videoId']].sort_values(by='videoId', ascending=False)"
   ]
  },
  {
   "cell_type": "code",
   "execution_count": 17,
   "metadata": {},
   "outputs": [
    {
     "data": {
      "image/png": "[encoded data removed]",
      "text/plain": [
       "<Figure size 504x360 with 1 Axes>"
      ]
     },
     "metadata": {
      "needs_background": "light"
     },
     "output_type": "display_data"
    }
   ],
   "source": [
    "# Number of videos based on errorType\n",
    "videos_errorType = df_removed.groupby('errorType').count()[['videoId']].sort_values(by='videoId', ascending=False)\n",
    "\n",
    "error_tags = list(videos_errorType.index)\n",
    "no_of_videos = list(videos_errorType['videoId'])\n",
    "\n",
    "fig = plt.figure(figsize=(7, 5))\n",
    "ax = fig.add_axes([0,0,1,1])\n",
    "ax.bar(error_tags, no_of_videos)\n",
    "plt.xticks(rotation = 90)\n",
    "plt.title('Number of videos based on Error Type')\n",
    "plt.savefig('Number of videos based on Error Type.png',bbox_inches='tight', dpi=150)\n",
    "plt.show()"
   ]
  },
  {
   "cell_type": "markdown",
   "metadata": {},
   "source": [
    "***\n",
    "# Unremoved videos data\n",
    "\n",
    "#### Unremoved means the videos which were taken by scraping all videos from a particular channel.\n",
    "#### The unremoved videos were not removed by YouTube.\n",
    "#### Uses ALL unremoved channel data we have in current directory"
   ]
  },
  {
   "cell_type": "code",
   "execution_count": 18,
   "metadata": {},
   "outputs": [
    {
     "name": "stdout",
     "output_type": "stream",
     "text": [
      "Length of unremoved channels list: 98.\n"
     ]
    }
   ],
   "source": [
    "# first two characters in file name must be \"UC\"\n",
    "unremoved_channel_files = [x for x in [f for f in listdir(os.getcwd())] if x[:2]=='UC']\n",
    "\n",
    "# file extension must make sense\n",
    "unremoved_channel_files = [x for x in unremoved_channel_files if any([x[-3:]=='tab', \n",
    "                                                                      x[-3:]=='tsv', \n",
    "                                                                      x[-3:]=='csv'])]\n",
    "\n",
    "print(f'Length of unremoved channels list: {len(unremoved_channel_files)}.')"
   ]
  },
  {
   "cell_type": "code",
   "execution_count": 19,
   "metadata": {},
   "outputs": [],
   "source": [
    "# reading in unremoved channel data\n",
    "unremoved_videos_df = pd.DataFrame({})\n",
    "\n",
    "for file in unremoved_channel_files:\n",
    "    temp_df = pd.read_csv(file, encoding='utf8', \n",
    "                          low_memory=False, \n",
    "                          lineterminator='\\n', \n",
    "                          delimiter='\\t', \n",
    "                          on_bad_lines = 'skip',\n",
    "                          index_col=0)\n",
    "    unremoved_videos_df = pd.concat([unremoved_videos_df, temp_df])\n",
    "    \n",
    "# remove duplicates by video and channel\n",
    "unremoved_videos_df = unremoved_videos_df.drop_duplicates(subset=['videoId', 'channelId'])"
   ]
  },
  {
   "cell_type": "code",
   "execution_count": 20,
   "metadata": {},
   "outputs": [
    {
     "name": "stdout",
     "output_type": "stream",
     "text": [
      "(224617, 22)\n"
     ]
    },
    {
     "data": {
      "text/html": [
       "<div>\n",
       "<style scoped>\n",
       "    .dataframe tbody tr th:only-of-type {\n",
       "        vertical-align: middle;\n",
       "    }\n",
       "\n",
       "    .dataframe tbody tr th {\n",
       "        vertical-align: top;\n",
       "    }\n",
       "\n",
       "    .dataframe thead th {\n",
       "        text-align: right;\n",
       "    }\n",
       "</style>\n",
       "<table border=\"1\" class=\"dataframe\">\n",
       "  <thead>\n",
       "    <tr style=\"text-align: right;\">\n",
       "      <th></th>\n",
       "      <th>channelId</th>\n",
       "      <th>channelTitle</th>\n",
       "      <th>videoId</th>\n",
       "      <th>publishedAt</th>\n",
       "      <th>publishedAtSQL</th>\n",
       "      <th>videoTitle</th>\n",
       "      <th>videoDescription</th>\n",
       "      <th>tags</th>\n",
       "      <th>videoCategoryId</th>\n",
       "      <th>videoCategoryLabel</th>\n",
       "      <th>duration</th>\n",
       "      <th>durationSec</th>\n",
       "      <th>dimension</th>\n",
       "      <th>definition</th>\n",
       "      <th>caption</th>\n",
       "      <th>thumbnail_maxres</th>\n",
       "      <th>licensedContent</th>\n",
       "      <th>viewCount</th>\n",
       "      <th>likeCount</th>\n",
       "      <th>dislikeCount</th>\n",
       "      <th>favoriteCount</th>\n",
       "      <th>commentCount</th>\n",
       "    </tr>\n",
       "    <tr>\n",
       "      <th>position</th>\n",
       "      <th></th>\n",
       "      <th></th>\n",
       "      <th></th>\n",
       "      <th></th>\n",
       "      <th></th>\n",
       "      <th></th>\n",
       "      <th></th>\n",
       "      <th></th>\n",
       "      <th></th>\n",
       "      <th></th>\n",
       "      <th></th>\n",
       "      <th></th>\n",
       "      <th></th>\n",
       "      <th></th>\n",
       "      <th></th>\n",
       "      <th></th>\n",
       "      <th></th>\n",
       "      <th></th>\n",
       "      <th></th>\n",
       "      <th></th>\n",
       "      <th></th>\n",
       "      <th></th>\n",
       "    </tr>\n",
       "  </thead>\n",
       "  <tbody>\n",
       "    <tr>\n",
       "      <th>1</th>\n",
       "      <td>UC-SJ6nODDmufqBzPBwCvYvQ</td>\n",
       "      <td>CBS Mornings</td>\n",
       "      <td>euKwv6yaydc</td>\n",
       "      <td>2022-04-18T15:21:43Z</td>\n",
       "      <td>2022-04-18 15:21:43</td>\n",
       "      <td>Singer-songwriter Janelle Monáe discusses her ...</td>\n",
       "      <td>Grammy-nominated singer-songwriter Janelle Mon...</td>\n",
       "      <td>video,cbs,news,janelle monae,singer,songwriter...</td>\n",
       "      <td>25</td>\n",
       "      <td>News &amp; Politics</td>\n",
       "      <td>PT5M43S</td>\n",
       "      <td>343</td>\n",
       "      <td>2d</td>\n",
       "      <td>hd</td>\n",
       "      <td>false</td>\n",
       "      <td>NaN</td>\n",
       "      <td>1.0</td>\n",
       "      <td>4634.0</td>\n",
       "      <td>153.0</td>\n",
       "      <td>NaN</td>\n",
       "      <td>0.0</td>\n",
       "      <td>51.0</td>\n",
       "    </tr>\n",
       "    <tr>\n",
       "      <th>2</th>\n",
       "      <td>UC-SJ6nODDmufqBzPBwCvYvQ</td>\n",
       "      <td>CBS Mornings</td>\n",
       "      <td>cGaq-cLtpKU</td>\n",
       "      <td>2022-04-18T15:02:53Z</td>\n",
       "      <td>2022-04-18 15:02:53</td>\n",
       "      <td>FAA sees record high number of reported laser ...</td>\n",
       "      <td>Reported aircraft laser strikes surged over 9,...</td>\n",
       "      <td>video,cbs,news,aircraft,laser,strike,surge,fed...</td>\n",
       "      <td>25</td>\n",
       "      <td>News &amp; Politics</td>\n",
       "      <td>PT2M56S</td>\n",
       "      <td>176</td>\n",
       "      <td>2d</td>\n",
       "      <td>hd</td>\n",
       "      <td>false</td>\n",
       "      <td>https://i.ytimg.com/vi/cGaq-cLtpKU/maxresdefau...</td>\n",
       "      <td>1.0</td>\n",
       "      <td>2575.0</td>\n",
       "      <td>56.0</td>\n",
       "      <td>NaN</td>\n",
       "      <td>0.0</td>\n",
       "      <td>33.0</td>\n",
       "    </tr>\n",
       "  </tbody>\n",
       "</table>\n",
       "</div>"
      ],
      "text/plain": [
       "                         channelId  channelTitle      videoId           publishedAt       publishedAtSQL                                         videoTitle                                   videoDescription                                               tags videoCategoryId videoCategoryLabel duration durationSec dimension definition caption                                   thumbnail_maxres  licensedContent  viewCount  likeCount  dislikeCount  favoriteCount  commentCount\n",
       "position                                                                                                                                                                                                                                                                                                                                                                                                                                                                                   \n",
       "1         UC-SJ6nODDmufqBzPBwCvYvQ  CBS Mornings  euKwv6yaydc  2022-04-18T15:21:43Z  2022-04-18 15:21:43  Singer-songwriter Janelle Monáe discusses her ...  Grammy-nominated singer-songwriter Janelle Mon...  video,cbs,news,janelle monae,singer,songwriter...              25    News & Politics  PT5M43S         343        2d         hd   false                                                NaN              1.0     4634.0      153.0           NaN            0.0          51.0\n",
       "2         UC-SJ6nODDmufqBzPBwCvYvQ  CBS Mornings  cGaq-cLtpKU  2022-04-18T15:02:53Z  2022-04-18 15:02:53  FAA sees record high number of reported laser ...  Reported aircraft laser strikes surged over 9,...  video,cbs,news,aircraft,laser,strike,surge,fed...              25    News & Politics  PT2M56S         176        2d         hd   false  https://i.ytimg.com/vi/cGaq-cLtpKU/maxresdefau...              1.0     2575.0       56.0           NaN            0.0          33.0"
      ]
     },
     "execution_count": 20,
     "metadata": {},
     "output_type": "execute_result"
    }
   ],
   "source": [
    "# preview unremoved_videos_df\n",
    "print(unremoved_videos_df.shape)\n",
    "unremoved_videos_df.head(2)"
   ]
  },
  {
   "cell_type": "code",
   "execution_count": 21,
   "metadata": {},
   "outputs": [],
   "source": [
    "del unremoved_videos_df['videoCategoryId']"
   ]
  },
  {
   "cell_type": "code",
   "execution_count": 22,
   "metadata": {},
   "outputs": [
    {
     "name": "stdout",
     "output_type": "stream",
     "text": [
      "(224585, 21)\n"
     ]
    }
   ],
   "source": [
    "# removing rows with bad/messy data\n",
    "to_remove = [\"48587\", \"16218\", \"2450\", \"PT3M14S\", \"PT8M21S\", \"PT12M24S\", \"12778\", \"2985\", \"3265\", \"16298\", \n",
    "             \"PT13M27S\", \"10061\", \"31131\", \"67447\", \"398\", \"PT9M10S\", \"424\", \"PT9M\", \"1966\", \"PT54S\", \"PT1M23S\", \n",
    "             \"1514\", \"PT5M18S\", \"PT1M45S\", \"30873\", \"PT10S\", \"PT17S\", \"40238\", \"5710\", \"3708\", \"PT11M30S\", \n",
    "             \"23876\", \"1385\"]\n",
    "\n",
    "# removing bad/messy data\n",
    "unremoved_videos_df = unremoved_videos_df[unremoved_videos_df[\"videoCategoryLabel\"].isin(to_remove)==False]\n",
    "\n",
    "print(unremoved_videos_df.shape)"
   ]
  },
  {
   "cell_type": "markdown",
   "metadata": {},
   "source": [
    "#### Minor data adjustments\n",
    "\n",
    "Changing column names, minor cleaning, etc."
   ]
  },
  {
   "cell_type": "code",
   "execution_count": 23,
   "metadata": {},
   "outputs": [
    {
     "name": "stdout",
     "output_type": "stream",
     "text": [
      "Dates later than 2022: 20,791\n",
      "Videos published in 2021: 56,854\n",
      "Dates earlier than 2021: 146,940\n"
     ]
    }
   ],
   "source": [
    "# How many videos published 2022 or later?\n",
    "print(f\"Dates later than 2022: {unremoved_videos_df[unremoved_videos_df['publishedAt'] >= '2022'].shape[0]:,}\")\n",
    "\n",
    "# How many dates in 2021?\n",
    "print(f\"Videos published in 2021: {unremoved_videos_df[(unremoved_videos_df['publishedAt'] < '2022') & (unremoved_videos_df['publishedAt'] >= '2021')].shape[0]:,}\")\n",
    "\n",
    "# How many videos published before 2021?\n",
    "print(f\"Dates earlier than 2021: {unremoved_videos_df[unremoved_videos_df['publishedAt'] <= '2021'].shape[0]:,}\")"
   ]
  },
  {
   "cell_type": "code",
   "execution_count": 24,
   "metadata": {},
   "outputs": [],
   "source": [
    "# changing column name\n",
    "unremoved_videos_df = unremoved_videos_df.rename(columns={\"publishedAt\": \"uploadDate\"})\n",
    "\n",
    "# remove bad column so we can convert to datetime\n",
    "unremoved_videos_df = unremoved_videos_df[unremoved_videos_df['uploadDate']!=\"91\"]\n",
    "\n",
    "# to datetime\n",
    "unremoved_videos_df[\"uploadDate\"] = pd.to_datetime(unremoved_videos_df[\"uploadDate\"])\n",
    "\n",
    "# removing duplicate column\n",
    "del unremoved_videos_df['publishedAtSQL']"
   ]
  },
  {
   "cell_type": "code",
   "execution_count": 25,
   "metadata": {},
   "outputs": [],
   "source": [
    "# add column for removed designator\n",
    "unremoved_videos_df['removed'] = False"
   ]
  },
  {
   "cell_type": "markdown",
   "metadata": {},
   "source": [
    "##### Note: \n",
    "\n",
    "- There are only 72 unique channels. That's because we imported from 90 files, but had 18 duplicates."
   ]
  },
  {
   "cell_type": "code",
   "execution_count": 26,
   "metadata": {},
   "outputs": [
    {
     "data": {
      "text/plain": [
       "72"
      ]
     },
     "execution_count": 26,
     "metadata": {},
     "output_type": "execute_result"
    }
   ],
   "source": [
    "# how many unique channels?\n",
    "len(unremoved_videos_df['channelId'].unique())"
   ]
  },
  {
   "cell_type": "markdown",
   "metadata": {},
   "source": [
    "***\n",
    "# Joining data"
   ]
  },
  {
   "cell_type": "code",
   "execution_count": 27,
   "metadata": {},
   "outputs": [],
   "source": [
    "# joining unremoved and removed videos\n",
    "all_vids = pd.concat([df_removed, unremoved_videos_df])\n",
    "\n",
    "# four columns were exactly the same names and thus merged"
   ]
  },
  {
   "cell_type": "code",
   "execution_count": 28,
   "metadata": {},
   "outputs": [
    {
     "name": "stdout",
     "output_type": "stream",
     "text": [
      "(777235, 28)\n"
     ]
    },
    {
     "data": {
      "text/html": [
       "<div>\n",
       "<style scoped>\n",
       "    .dataframe tbody tr th:only-of-type {\n",
       "        vertical-align: middle;\n",
       "    }\n",
       "\n",
       "    .dataframe tbody tr th {\n",
       "        vertical-align: top;\n",
       "    }\n",
       "\n",
       "    .dataframe thead th {\n",
       "        text-align: right;\n",
       "    }\n",
       "</style>\n",
       "<table border=\"1\" class=\"dataframe\">\n",
       "  <thead>\n",
       "    <tr style=\"text-align: right;\">\n",
       "      <th></th>\n",
       "      <th>videoId</th>\n",
       "      <th>channelId</th>\n",
       "      <th>errorType</th>\n",
       "      <th>copyrightHolder</th>\n",
       "      <th>errorUpdated</th>\n",
       "      <th>lastSeen</th>\n",
       "      <th>videoTitle</th>\n",
       "      <th>channelTitle</th>\n",
       "      <th>durationSecs</th>\n",
       "      <th>videoViews</th>\n",
       "      <th>uploadDate</th>\n",
       "      <th>hasCaptions</th>\n",
       "      <th>removed</th>\n",
       "      <th>videoDescription</th>\n",
       "      <th>tags</th>\n",
       "      <th>videoCategoryLabel</th>\n",
       "      <th>duration</th>\n",
       "      <th>durationSec</th>\n",
       "      <th>dimension</th>\n",
       "      <th>definition</th>\n",
       "      <th>caption</th>\n",
       "      <th>thumbnail_maxres</th>\n",
       "      <th>licensedContent</th>\n",
       "      <th>viewCount</th>\n",
       "      <th>likeCount</th>\n",
       "      <th>dislikeCount</th>\n",
       "      <th>favoriteCount</th>\n",
       "      <th>commentCount</th>\n",
       "    </tr>\n",
       "  </thead>\n",
       "  <tbody>\n",
       "    <tr>\n",
       "      <th>0</th>\n",
       "      <td>PWr3XfJ6qUw</td>\n",
       "      <td>UCNbQnkptty3cGVnHkJIJFwQ</td>\n",
       "      <td>Channel Removed</td>\n",
       "      <td>NaN</td>\n",
       "      <td>2021-01-01T00:03:15.2061309Z</td>\n",
       "      <td>2020-12-31T00:07:45.203875Z</td>\n",
       "      <td>ΤΣΙΟΔΡΑΣ ΚΑΤΑΣΚΕΥΑΖΟΥΜΕ ΙΟΥΣ ΓΙΑ ΝΑ ΠΑΡΑΣΚΕΥΑΣ...</td>\n",
       "      <td>SFAGI SFAGIGR</td>\n",
       "      <td>28.0</td>\n",
       "      <td>2237.0</td>\n",
       "      <td>2020-04-05 00:00:00+00:00</td>\n",
       "      <td>False</td>\n",
       "      <td>True</td>\n",
       "      <td>NaN</td>\n",
       "      <td>NaN</td>\n",
       "      <td>NaN</td>\n",
       "      <td>NaN</td>\n",
       "      <td>NaN</td>\n",
       "      <td>NaN</td>\n",
       "      <td>NaN</td>\n",
       "      <td>NaN</td>\n",
       "      <td>NaN</td>\n",
       "      <td>NaN</td>\n",
       "      <td>NaN</td>\n",
       "      <td>NaN</td>\n",
       "      <td>NaN</td>\n",
       "      <td>NaN</td>\n",
       "      <td>NaN</td>\n",
       "    </tr>\n",
       "    <tr>\n",
       "      <th>1</th>\n",
       "      <td>-wFkHMJ3BcM</td>\n",
       "      <td>UCNbQnkptty3cGVnHkJIJFwQ</td>\n",
       "      <td>Channel Removed</td>\n",
       "      <td>NaN</td>\n",
       "      <td>2021-01-01T00:03:15.2061309Z</td>\n",
       "      <td>2020-12-31T00:07:45.203875Z</td>\n",
       "      <td>Ο ΝΤΟΝΑΛΝΤ ΤΡΑΜΠ ΚΑΙ Η ΜΕΛΑΝΙΑ, ΕΥΧΗΘΗΚΑΝ ΚΑΛΑ...</td>\n",
       "      <td>SFAGI SFAGIGR</td>\n",
       "      <td>156.0</td>\n",
       "      <td>5914.0</td>\n",
       "      <td>2020-12-20 00:00:00+00:00</td>\n",
       "      <td>True</td>\n",
       "      <td>True</td>\n",
       "      <td>NaN</td>\n",
       "      <td>NaN</td>\n",
       "      <td>NaN</td>\n",
       "      <td>NaN</td>\n",
       "      <td>NaN</td>\n",
       "      <td>NaN</td>\n",
       "      <td>NaN</td>\n",
       "      <td>NaN</td>\n",
       "      <td>NaN</td>\n",
       "      <td>NaN</td>\n",
       "      <td>NaN</td>\n",
       "      <td>NaN</td>\n",
       "      <td>NaN</td>\n",
       "      <td>NaN</td>\n",
       "      <td>NaN</td>\n",
       "    </tr>\n",
       "  </tbody>\n",
       "</table>\n",
       "</div>"
      ],
      "text/plain": [
       "       videoId                 channelId        errorType copyrightHolder                  errorUpdated                     lastSeen                                         videoTitle   channelTitle  durationSecs  videoViews                uploadDate hasCaptions  removed videoDescription tags videoCategoryLabel duration durationSec dimension definition caption thumbnail_maxres  licensedContent  viewCount  likeCount  dislikeCount  favoriteCount  commentCount\n",
       "0  PWr3XfJ6qUw  UCNbQnkptty3cGVnHkJIJFwQ  Channel Removed             NaN  2021-01-01T00:03:15.2061309Z  2020-12-31T00:07:45.203875Z  ΤΣΙΟΔΡΑΣ ΚΑΤΑΣΚΕΥΑΖΟΥΜΕ ΙΟΥΣ ΓΙΑ ΝΑ ΠΑΡΑΣΚΕΥΑΣ...  SFAGI SFAGIGR          28.0      2237.0 2020-04-05 00:00:00+00:00       False     True              NaN  NaN                NaN      NaN         NaN       NaN        NaN     NaN              NaN              NaN        NaN        NaN           NaN            NaN           NaN\n",
       "1  -wFkHMJ3BcM  UCNbQnkptty3cGVnHkJIJFwQ  Channel Removed             NaN  2021-01-01T00:03:15.2061309Z  2020-12-31T00:07:45.203875Z  Ο ΝΤΟΝΑΛΝΤ ΤΡΑΜΠ ΚΑΙ Η ΜΕΛΑΝΙΑ, ΕΥΧΗΘΗΚΑΝ ΚΑΛΑ...  SFAGI SFAGIGR         156.0      5914.0 2020-12-20 00:00:00+00:00        True     True              NaN  NaN                NaN      NaN         NaN       NaN        NaN     NaN              NaN              NaN        NaN        NaN           NaN            NaN           NaN"
      ]
     },
     "execution_count": 28,
     "metadata": {},
     "output_type": "execute_result"
    }
   ],
   "source": [
    "print(all_vids.shape)\n",
    "all_vids.head(2)"
   ]
  },
  {
   "cell_type": "markdown",
   "metadata": {},
   "source": [
    "### Note on duplicates\n",
    "\n",
    "- here we see video IDs where there are multiples\n",
    "- this is because the same video appeared in both the \"removed videos\" and \"unremoved videos\" datasets"
   ]
  },
  {
   "cell_type": "code",
   "execution_count": 29,
   "metadata": {},
   "outputs": [
    {
     "data": {
      "text/html": [
       "<div>\n",
       "<style scoped>\n",
       "    .dataframe tbody tr th:only-of-type {\n",
       "        vertical-align: middle;\n",
       "    }\n",
       "\n",
       "    .dataframe tbody tr th {\n",
       "        vertical-align: top;\n",
       "    }\n",
       "\n",
       "    .dataframe thead th {\n",
       "        text-align: right;\n",
       "    }\n",
       "</style>\n",
       "<table border=\"1\" class=\"dataframe\">\n",
       "  <thead>\n",
       "    <tr style=\"text-align: right;\">\n",
       "      <th></th>\n",
       "      <th>videoId</th>\n",
       "      <th>channelId</th>\n",
       "      <th>errorType</th>\n",
       "      <th>copyrightHolder</th>\n",
       "      <th>errorUpdated</th>\n",
       "      <th>lastSeen</th>\n",
       "      <th>videoTitle</th>\n",
       "      <th>channelTitle</th>\n",
       "      <th>durationSecs</th>\n",
       "      <th>videoViews</th>\n",
       "      <th>uploadDate</th>\n",
       "      <th>hasCaptions</th>\n",
       "      <th>removed</th>\n",
       "      <th>videoDescription</th>\n",
       "      <th>tags</th>\n",
       "      <th>videoCategoryLabel</th>\n",
       "      <th>duration</th>\n",
       "      <th>durationSec</th>\n",
       "      <th>dimension</th>\n",
       "      <th>definition</th>\n",
       "      <th>caption</th>\n",
       "      <th>thumbnail_maxres</th>\n",
       "      <th>licensedContent</th>\n",
       "      <th>viewCount</th>\n",
       "      <th>likeCount</th>\n",
       "      <th>dislikeCount</th>\n",
       "      <th>favoriteCount</th>\n",
       "      <th>commentCount</th>\n",
       "    </tr>\n",
       "  </thead>\n",
       "  <tbody>\n",
       "    <tr>\n",
       "      <th>455</th>\n",
       "      <td>-VKGvmNzjvY</td>\n",
       "      <td>UCRkEvvXGy2ij9xC7co9MhSg</td>\n",
       "      <td>NaN</td>\n",
       "      <td>NaN</td>\n",
       "      <td>NaN</td>\n",
       "      <td>NaN</td>\n",
       "      <td>Silent Sanctuary \"Pasensya Kana\" Araw ng Panab...</td>\n",
       "      <td>Hermann Candelaria</td>\n",
       "      <td>NaN</td>\n",
       "      <td>NaN</td>\n",
       "      <td>2019-04-01 17:05:39+00:00</td>\n",
       "      <td>NaN</td>\n",
       "      <td>False</td>\n",
       "      <td>Subscribe and Share! Silent Sanctuary at 18th ...</td>\n",
       "      <td>silent sanctuary,silentsanctuary,araw ng panab...</td>\n",
       "      <td>People &amp; Blogs</td>\n",
       "      <td>PT5M31S</td>\n",
       "      <td>331</td>\n",
       "      <td>2d</td>\n",
       "      <td>hd</td>\n",
       "      <td>False</td>\n",
       "      <td>https://i.ytimg.com/vi/-VKGvmNzjvY/maxresdefau...</td>\n",
       "      <td>NaN</td>\n",
       "      <td>250.0</td>\n",
       "      <td>4.0</td>\n",
       "      <td>NaN</td>\n",
       "      <td>0.0</td>\n",
       "      <td>0.0</td>\n",
       "    </tr>\n",
       "    <tr>\n",
       "      <th>293641</th>\n",
       "      <td>-VKGvmNzjvY</td>\n",
       "      <td>UCRkEvvXGy2ij9xC7co9MhSg</td>\n",
       "      <td>Private</td>\n",
       "      <td>NaN</td>\n",
       "      <td>2021-06-05T01:04:59.8182075Z</td>\n",
       "      <td>2021-05-04T00:21:35.7604541Z</td>\n",
       "      <td>Silent Sanctuary \"Pasensya Kana\" Araw ng Panab...</td>\n",
       "      <td>Hermann Candelaria</td>\n",
       "      <td>331.0</td>\n",
       "      <td>249.0</td>\n",
       "      <td>2019-04-01 16:40:41+00:00</td>\n",
       "      <td>False</td>\n",
       "      <td>True</td>\n",
       "      <td>Subscribe and Share! Silent Sanctuary at 18th ...</td>\n",
       "      <td>silent sanctuary,silentsanctuary,araw ng panab...</td>\n",
       "      <td>People &amp; Blogs</td>\n",
       "      <td>PT5M31S</td>\n",
       "      <td>331</td>\n",
       "      <td>2d</td>\n",
       "      <td>hd</td>\n",
       "      <td>False</td>\n",
       "      <td>https://i.ytimg.com/vi/-VKGvmNzjvY/maxresdefau...</td>\n",
       "      <td>NaN</td>\n",
       "      <td>250.0</td>\n",
       "      <td>4.0</td>\n",
       "      <td>NaN</td>\n",
       "      <td>0.0</td>\n",
       "      <td>0.0</td>\n",
       "    </tr>\n",
       "    <tr>\n",
       "      <th>248</th>\n",
       "      <td>-ucb0u_7M1w</td>\n",
       "      <td>UCRkEvvXGy2ij9xC7co9MhSg</td>\n",
       "      <td>Private</td>\n",
       "      <td>NaN</td>\n",
       "      <td>2021-06-05T01:04:59.8182075Z</td>\n",
       "      <td>2021-05-04T00:21:35.7604541Z</td>\n",
       "      <td>Revival around the world // People turn there ...</td>\n",
       "      <td>Hermann Candelaria</td>\n",
       "      <td>331.0</td>\n",
       "      <td>249.0</td>\n",
       "      <td>2021-02-18 17:28:38+00:00</td>\n",
       "      <td>False</td>\n",
       "      <td>False</td>\n",
       "      <td>February 14, 2021 // CAC Samal - Sunday Worshi...</td>\n",
       "      <td>silent sanctuary,silentsanctuary,araw ng panab...</td>\n",
       "      <td>Entertainment</td>\n",
       "      <td>PT33M11S</td>\n",
       "      <td>1991</td>\n",
       "      <td>2d</td>\n",
       "      <td>hd</td>\n",
       "      <td>False</td>\n",
       "      <td>https://i.ytimg.com/vi/-ucb0u_7M1w/maxresdefau...</td>\n",
       "      <td>NaN</td>\n",
       "      <td>377.0</td>\n",
       "      <td>21.0</td>\n",
       "      <td>NaN</td>\n",
       "      <td>0.0</td>\n",
       "      <td>4.0</td>\n",
       "    </tr>\n",
       "    <tr>\n",
       "      <th>258204</th>\n",
       "      <td>-ucb0u_7M1w</td>\n",
       "      <td>UCRkEvvXGy2ij9xC7co9MhSg</td>\n",
       "      <td>Private</td>\n",
       "      <td>NaN</td>\n",
       "      <td>2021-04-15T01:10:40.6309889Z</td>\n",
       "      <td>2021-04-14T00:52:01.7848361Z</td>\n",
       "      <td>Revival around the world // People turn there ...</td>\n",
       "      <td>Hermann Candelaria</td>\n",
       "      <td>1991.0</td>\n",
       "      <td>373.0</td>\n",
       "      <td>2021-02-18 00:00:00+00:00</td>\n",
       "      <td>True</td>\n",
       "      <td>True</td>\n",
       "      <td>February 14, 2021 // CAC Samal - Sunday Worshi...</td>\n",
       "      <td>silent sanctuary,silentsanctuary,araw ng panab...</td>\n",
       "      <td>Entertainment</td>\n",
       "      <td>PT33M11S</td>\n",
       "      <td>1991</td>\n",
       "      <td>2d</td>\n",
       "      <td>hd</td>\n",
       "      <td>False</td>\n",
       "      <td>https://i.ytimg.com/vi/-ucb0u_7M1w/maxresdefau...</td>\n",
       "      <td>NaN</td>\n",
       "      <td>377.0</td>\n",
       "      <td>21.0</td>\n",
       "      <td>NaN</td>\n",
       "      <td>0.0</td>\n",
       "      <td>4.0</td>\n",
       "    </tr>\n",
       "  </tbody>\n",
       "</table>\n",
       "</div>"
      ],
      "text/plain": [
       "            videoId                 channelId errorType copyrightHolder                  errorUpdated                      lastSeen                                         videoTitle        channelTitle  durationSecs  videoViews                uploadDate hasCaptions  removed                                   videoDescription                                               tags videoCategoryLabel  duration durationSec dimension definition caption                                   thumbnail_maxres  licensedContent  viewCount  likeCount  dislikeCount  favoriteCount  commentCount\n",
       "455     -VKGvmNzjvY  UCRkEvvXGy2ij9xC7co9MhSg       NaN             NaN                           NaN                           NaN  Silent Sanctuary \"Pasensya Kana\" Araw ng Panab...  Hermann Candelaria           NaN         NaN 2019-04-01 17:05:39+00:00         NaN    False  Subscribe and Share! Silent Sanctuary at 18th ...  silent sanctuary,silentsanctuary,araw ng panab...     People & Blogs   PT5M31S         331        2d         hd   False  https://i.ytimg.com/vi/-VKGvmNzjvY/maxresdefau...              NaN      250.0        4.0           NaN            0.0           0.0\n",
       "293641  -VKGvmNzjvY  UCRkEvvXGy2ij9xC7co9MhSg   Private             NaN  2021-06-05T01:04:59.8182075Z  2021-05-04T00:21:35.7604541Z  Silent Sanctuary \"Pasensya Kana\" Araw ng Panab...  Hermann Candelaria         331.0       249.0 2019-04-01 16:40:41+00:00       False     True  Subscribe and Share! Silent Sanctuary at 18th ...  silent sanctuary,silentsanctuary,araw ng panab...     People & Blogs   PT5M31S         331        2d         hd   False  https://i.ytimg.com/vi/-VKGvmNzjvY/maxresdefau...              NaN      250.0        4.0           NaN            0.0           0.0\n",
       "248     -ucb0u_7M1w  UCRkEvvXGy2ij9xC7co9MhSg   Private             NaN  2021-06-05T01:04:59.8182075Z  2021-05-04T00:21:35.7604541Z  Revival around the world // People turn there ...  Hermann Candelaria         331.0       249.0 2021-02-18 17:28:38+00:00       False    False  February 14, 2021 // CAC Samal - Sunday Worshi...  silent sanctuary,silentsanctuary,araw ng panab...      Entertainment  PT33M11S        1991        2d         hd   False  https://i.ytimg.com/vi/-ucb0u_7M1w/maxresdefau...              NaN      377.0       21.0           NaN            0.0           4.0\n",
       "258204  -ucb0u_7M1w  UCRkEvvXGy2ij9xC7co9MhSg   Private             NaN  2021-04-15T01:10:40.6309889Z  2021-04-14T00:52:01.7848361Z  Revival around the world // People turn there ...  Hermann Candelaria        1991.0       373.0 2021-02-18 00:00:00+00:00        True     True  February 14, 2021 // CAC Samal - Sunday Worshi...  silent sanctuary,silentsanctuary,araw ng panab...      Entertainment  PT33M11S        1991        2d         hd   False  https://i.ytimg.com/vi/-ucb0u_7M1w/maxresdefau...              NaN      377.0       21.0           NaN            0.0           4.0"
      ]
     },
     "execution_count": 29,
     "metadata": {},
     "output_type": "execute_result"
    }
   ],
   "source": [
    "multiples = sorted(all_vids.groupby('videoId').count()[all_vids.groupby('videoId').count()['channelId'] == 2].index.tolist())\n",
    "\n",
    "# # show DF of videoID duplicates\n",
    "all_vids[all_vids['videoId'].isin(multiples)].sort_values(by=['videoId', 'removed']).fillna(method=\"ffill\").head(4)"
   ]
  },
  {
   "cell_type": "code",
   "execution_count": 30,
   "metadata": {},
   "outputs": [],
   "source": [
    "all_vids[all_vids['videoId'].isin(multiples)].sort_values(by=['videoId', 'removed']).fillna(method=\"ffill\", inplace=True)"
   ]
  },
  {
   "cell_type": "code",
   "execution_count": 31,
   "metadata": {},
   "outputs": [
    {
     "data": {
      "text/html": [
       "<div>\n",
       "<style scoped>\n",
       "    .dataframe tbody tr th:only-of-type {\n",
       "        vertical-align: middle;\n",
       "    }\n",
       "\n",
       "    .dataframe tbody tr th {\n",
       "        vertical-align: top;\n",
       "    }\n",
       "\n",
       "    .dataframe thead th {\n",
       "        text-align: right;\n",
       "    }\n",
       "</style>\n",
       "<table border=\"1\" class=\"dataframe\">\n",
       "  <thead>\n",
       "    <tr style=\"text-align: right;\">\n",
       "      <th></th>\n",
       "      <th>videoId</th>\n",
       "      <th>channelId</th>\n",
       "      <th>errorType</th>\n",
       "      <th>copyrightHolder</th>\n",
       "      <th>errorUpdated</th>\n",
       "      <th>lastSeen</th>\n",
       "      <th>videoTitle</th>\n",
       "      <th>channelTitle</th>\n",
       "      <th>durationSecs</th>\n",
       "      <th>videoViews</th>\n",
       "      <th>uploadDate</th>\n",
       "      <th>hasCaptions</th>\n",
       "      <th>removed</th>\n",
       "      <th>videoDescription</th>\n",
       "      <th>tags</th>\n",
       "      <th>videoCategoryLabel</th>\n",
       "      <th>duration</th>\n",
       "      <th>durationSec</th>\n",
       "      <th>dimension</th>\n",
       "      <th>definition</th>\n",
       "      <th>caption</th>\n",
       "      <th>thumbnail_maxres</th>\n",
       "      <th>licensedContent</th>\n",
       "      <th>viewCount</th>\n",
       "      <th>likeCount</th>\n",
       "      <th>dislikeCount</th>\n",
       "      <th>favoriteCount</th>\n",
       "      <th>commentCount</th>\n",
       "    </tr>\n",
       "  </thead>\n",
       "  <tbody>\n",
       "    <tr>\n",
       "      <th>547867</th>\n",
       "      <td>7umBOlCXBXg</td>\n",
       "      <td>UC-SJ6nODDmufqBzPBwCvYvQ</td>\n",
       "      <td>Unavailable</td>\n",
       "      <td>NaN</td>\n",
       "      <td>2022-01-05T00:40:28.2620618Z</td>\n",
       "      <td>2021-12-22T23:01:54.8029225Z</td>\n",
       "      <td>Drew Barrymore on talk show's renewal, new \"Dr...</td>\n",
       "      <td>CBS Mornings</td>\n",
       "      <td>553.0</td>\n",
       "      <td>34177.0</td>\n",
       "      <td>2021-03-31 14:26:58.713432900+00:00</td>\n",
       "      <td>False</td>\n",
       "      <td>True</td>\n",
       "      <td>NaN</td>\n",
       "      <td>NaN</td>\n",
       "      <td>NaN</td>\n",
       "      <td>NaN</td>\n",
       "      <td>NaN</td>\n",
       "      <td>NaN</td>\n",
       "      <td>NaN</td>\n",
       "      <td>NaN</td>\n",
       "      <td>NaN</td>\n",
       "      <td>NaN</td>\n",
       "      <td>NaN</td>\n",
       "      <td>NaN</td>\n",
       "      <td>NaN</td>\n",
       "      <td>NaN</td>\n",
       "      <td>NaN</td>\n",
       "    </tr>\n",
       "    <tr>\n",
       "      <th>3102</th>\n",
       "      <td>7umBOlCXBXg</td>\n",
       "      <td>UC-SJ6nODDmufqBzPBwCvYvQ</td>\n",
       "      <td>NaN</td>\n",
       "      <td>NaN</td>\n",
       "      <td>NaN</td>\n",
       "      <td>NaN</td>\n",
       "      <td>Drew Barrymore on talk show's renewal, new \"Dr...</td>\n",
       "      <td>CBS Mornings</td>\n",
       "      <td>NaN</td>\n",
       "      <td>NaN</td>\n",
       "      <td>2021-03-31 13:40:36+00:00</td>\n",
       "      <td>NaN</td>\n",
       "      <td>False</td>\n",
       "      <td>Drew Barrymore, the host and executive produce...</td>\n",
       "      <td>drew barrymore talk show,Drew barrymore,drew b...</td>\n",
       "      <td>News &amp; Politics</td>\n",
       "      <td>PT9M13S</td>\n",
       "      <td>553</td>\n",
       "      <td>2d</td>\n",
       "      <td>hd</td>\n",
       "      <td>false</td>\n",
       "      <td>https://i.ytimg.com/vi/7umBOlCXBXg/maxresdefau...</td>\n",
       "      <td>1.0</td>\n",
       "      <td>34997.0</td>\n",
       "      <td>538.0</td>\n",
       "      <td>NaN</td>\n",
       "      <td>0.0</td>\n",
       "      <td>75.0</td>\n",
       "    </tr>\n",
       "  </tbody>\n",
       "</table>\n",
       "</div>"
      ],
      "text/plain": [
       "            videoId                 channelId    errorType copyrightHolder                  errorUpdated                      lastSeen                                         videoTitle  channelTitle  durationSecs  videoViews                          uploadDate hasCaptions  removed                                   videoDescription                                               tags videoCategoryLabel duration durationSec dimension definition caption                                   thumbnail_maxres  licensedContent  viewCount  likeCount  dislikeCount  favoriteCount  commentCount\n",
       "547867  7umBOlCXBXg  UC-SJ6nODDmufqBzPBwCvYvQ  Unavailable             NaN  2022-01-05T00:40:28.2620618Z  2021-12-22T23:01:54.8029225Z  Drew Barrymore on talk show's renewal, new \"Dr...  CBS Mornings         553.0     34177.0 2021-03-31 14:26:58.713432900+00:00       False     True                                                NaN                                                NaN                NaN      NaN         NaN       NaN        NaN     NaN                                                NaN              NaN        NaN        NaN           NaN            NaN           NaN\n",
       "3102    7umBOlCXBXg  UC-SJ6nODDmufqBzPBwCvYvQ          NaN             NaN                           NaN                           NaN  Drew Barrymore on talk show's renewal, new \"Dr...  CBS Mornings           NaN         NaN           2021-03-31 13:40:36+00:00         NaN    False  Drew Barrymore, the host and executive produce...  drew barrymore talk show,Drew barrymore,drew b...    News & Politics  PT9M13S         553        2d         hd   false  https://i.ytimg.com/vi/7umBOlCXBXg/maxresdefau...              1.0    34997.0      538.0           NaN            0.0          75.0"
      ]
     },
     "execution_count": 31,
     "metadata": {},
     "output_type": "execute_result"
    }
   ],
   "source": [
    "# need to remove the duplicate videos, keeping on the removed=True version\n",
    "\n",
    "# checking ordering: removed == True should be first, and we'll keep the first\n",
    "all_vids[all_vids['videoId']=='7umBOlCXBXg']"
   ]
  },
  {
   "cell_type": "code",
   "execution_count": 32,
   "metadata": {},
   "outputs": [],
   "source": [
    "# drop dupes\n",
    "all_vids = all_vids.drop_duplicates(subset= \"videoId\", keep='first')"
   ]
  },
  {
   "cell_type": "code",
   "execution_count": 33,
   "metadata": {},
   "outputs": [
    {
     "name": "stdout",
     "output_type": "stream",
     "text": [
      "(776849, 28)\n",
      "4770\n"
     ]
    }
   ],
   "source": [
    "# check work\n",
    "print(all_vids.shape)\n",
    "\n",
    "# how many unique channels?\n",
    "print(len(all_vids['channelId'].value_counts()))"
   ]
  },
  {
   "cell_type": "markdown",
   "metadata": {},
   "source": [
    "***\n",
    "# Filter by channels\n",
    "#### 3 randomly chosen channels for each of the 18 political categories.\n",
    "\n",
    "There are 18 political categories of video (Mainstream Media, Social Justice, etc.). These political categories were already tagged by researchers affiliated with Transparency Tube.\n",
    "\n",
    "- We are interested in predicting if a video is removed or not, so we need to have videos that are and are not removed.\n",
    "- We cannot easily download all videos ever posted for all 7,000+ political channels monitored by Transparency Tube.\n",
    "- For that reason, we took a random sample of three channels for each of the 18 political categories.\n",
    "- Each of these channels was scraped with a separate tool."
   ]
  },
  {
   "cell_type": "code",
   "execution_count": 34,
   "metadata": {},
   "outputs": [
    {
     "name": "stdout",
     "output_type": "stream",
     "text": [
      "Number of channels we're using: 54\n",
      "Number of unique channels we're using: 47\n"
     ]
    }
   ],
   "source": [
    "# channels we're using\n",
    "# three random channels per category\n",
    "l = [\"UC5apkKkeZQXRSDbqSalG8CQ\", \"UCfwE_ODI1YTbdjkzuSi1Nag\", \"UCla6APLHX6W3FeNLc8PYuvg\", \n",
    "     \"UCCvWXESXO1NzWBTOcmXIVHA\", \"UCgeV3tFiU2Xg0PD1dAQbBHA\", \"UCgxhhTH3efNnmre4RzPYzcQ\", \n",
    "     \"UC26QBHhU7My5DyD4WTXqwSg\", \"UC5RwNJQSINkzIazWaM-lM3Q\", \"UCzGr-CxfTv4TriTWENmfDVA\", \n",
    "     \"UC-z-6j1JEBznf2kFTGaBlsA\", \"UCAHmI3MPpk5h2DzcseyXAgw\", \"UCBHWVR4sb7J0JRlvky4yFTA\", \n",
    "     \"UC18vz5hUUqxbGvym9ghtX_w\", \"UC3XTzVzaHQEd30rQbuvCtTQ\", \"UC8-Th83bH_thdKZDJCrn88g\", \n",
    "     \"UC75HVYVE-wYHGQlc4w3-GGw\", \"UCDmCBKaKOtOrEqgsL4-3C8Q\", \"UCxFWzKZa74SyAqpJyVlG5Ew\", \n",
    "     \"UCJdKr0Bgd_5saZYqLCa9mng\", \"UCPfx4GzSKk2EgUry79s9SRA\", \"UCZzt9J8vB_5UC_aWxhPVrMA\", \n",
    "     \"UC-SJ6nODDmufqBzPBwCvYvQ\", \"UCD2dfyYdnvXv0c8DWICWyEQ\", \"UCS96EfLJMmVjh9--18l8KPA\", \n",
    "     \"UC95m7aBYo7wgNCoHb1ojQYw\", \"UCEh7V-I77Cs9st5gtH4wd7w\", \"UCo2drA7n6c3fQ48XChKitkg\", \n",
    "     \"UC8-Th83bH_thdKZDJCrn88g\", \"UCRPdcY4_Al8TrRtgkMzkrQQ\", \"UCS96EfLJMmVjh9--18l8KPA\", \n",
    "     \"UC-z-6j1JEBznf2kFTGaBlsA\", \"UC1gM5TvQNcla_md6BcnyjKA\", \"UC7KZFVVnKjiCzkxWD-Qrakg\", \n",
    "     \"UCAql2DyGU2un1Ei2nMYsqOA\", \"UCbheDE_LMwHyl3VShzU73wA\", \"UCH1dpzjCEiGAt8CXkryhkZg\", \n",
    "     \"UC-z-6j1JEBznf2kFTGaBlsA\", \"UCl49yaTf95CnN_w-Y3yY5fg\", \"UCOtB_qcFywPqu0uVwf6RPpw\", \n",
    "     \"UCijDos-LUTh9RQvSCMQqN6Q\", \"UCRkEvvXGy2ij9xC7co9MhSg\", \"UCZWlSUNDvCCS1hBiXV0zKcA\", \n",
    "     \"UCbP5yp0-oudHyy9Rptm-dRA\", \"UCl_A_42M6kvjH8Gr-rwfCUw\", \"UCswH8ovgUp5Bdg-0_JTYFNw\", \n",
    "     \"UC5RwNJQSINkzIazWaM-lM3Q\", \"UC8-Th83bH_thdKZDJCrn88g\", \"UCbaGn5VkOVlcRgIWAHcrJKA\", \n",
    "     \"UC1nrVLHNfnsxpJthrAP8wNw\", \"UCMItGKKTQzBTnIcbEoO3XnA\", \"UCpwvZwUam-URkxB7g4USKpg\", \n",
    "     \"UCKFUW_CSc1CkXC86HulGdAA\", \"UCla6APLHX6W3FeNLc8PYuvg\", \"UCv3R1AEqzjQjoqKwe_C6Yag\"]\n",
    "\n",
    "print(f\"Number of channels we're using: {len(l)}\")\n",
    "print(f\"Number of unique channels we're using: {len(set(l))}\")"
   ]
  },
  {
   "cell_type": "markdown",
   "metadata": {},
   "source": [
    "- A few channels we selected randomly appear in multiple categories.\n",
    "- Hence, the unique number in l is shorter than the total number in l."
   ]
  },
  {
   "cell_type": "code",
   "execution_count": 35,
   "metadata": {},
   "outputs": [
    {
     "name": "stdout",
     "output_type": "stream",
     "text": [
      "before: (776849, 28)\n",
      "after: (130204, 28)\n"
     ]
    }
   ],
   "source": [
    "# Filter for only the channels where we have unremoved videos\n",
    "print(f'before: {all_vids.shape}')\n",
    "all_vids = all_vids[all_vids[\"channelId\"].isin(l)]\n",
    "print(f'after: {all_vids[all_vids[\"channelId\"].isin(l)].shape}')"
   ]
  },
  {
   "cell_type": "markdown",
   "metadata": {},
   "source": [
    "***\n",
    "# Joining channel data with all video data (unremoved and removed)"
   ]
  },
  {
   "cell_type": "code",
   "execution_count": 36,
   "metadata": {},
   "outputs": [
    {
     "name": "stdout",
     "output_type": "stream",
     "text": [
      "(130204, 36)\n"
     ]
    }
   ],
   "source": [
    "df = pd.merge(all_vids, channel_df, on=\"channelId\")\n",
    "print(df.shape)"
   ]
  },
  {
   "cell_type": "code",
   "execution_count": 37,
   "metadata": {},
   "outputs": [
    {
     "data": {
      "text/plain": [
       "'Unique video count: 130,204'"
      ]
     },
     "execution_count": 37,
     "metadata": {},
     "output_type": "execute_result"
    }
   ],
   "source": [
    "# how many unique videos?\n",
    "f\"Unique video count: {len(df['videoId'].unique()):,}\""
   ]
  },
  {
   "cell_type": "markdown",
   "metadata": {},
   "source": [
    "***\n",
    "# Data cleaning\n",
    "***"
   ]
  },
  {
   "cell_type": "code",
   "execution_count": 38,
   "metadata": {},
   "outputs": [],
   "source": [
    "# Feature scaling function\n",
    "def scale_feature(df, column_name):\n",
    "    minviews = min(df[column_name])\n",
    "    maxviews = max(df[column_name])\n",
    "\n",
    "    def feature_scaling(x):\n",
    "        return (x - minviews)/(maxviews - minviews)\n",
    "    df[f'scaled_{column_name}'] = df[column_name].apply(feature_scaling)"
   ]
  },
  {
   "cell_type": "code",
   "execution_count": 39,
   "metadata": {},
   "outputs": [],
   "source": [
    "# Applying feature scaling\n",
    "scale_feature(df, \"channelViews\")\n",
    "scale_feature(df, \"subs\")\n",
    "scale_feature(df, \"videoViews\")"
   ]
  },
  {
   "cell_type": "code",
   "execution_count": 40,
   "metadata": {},
   "outputs": [
    {
     "data": {
      "text/html": [
       "<div>\n",
       "<style scoped>\n",
       "    .dataframe tbody tr th:only-of-type {\n",
       "        vertical-align: middle;\n",
       "    }\n",
       "\n",
       "    .dataframe tbody tr th {\n",
       "        vertical-align: top;\n",
       "    }\n",
       "\n",
       "    .dataframe thead th {\n",
       "        text-align: right;\n",
       "    }\n",
       "</style>\n",
       "<table border=\"1\" class=\"dataframe\">\n",
       "  <thead>\n",
       "    <tr style=\"text-align: right;\">\n",
       "      <th></th>\n",
       "      <th>AntiSJW</th>\n",
       "      <th>AntiTheist</th>\n",
       "      <th>Black</th>\n",
       "      <th>Conspiracy</th>\n",
       "      <th>LGBT</th>\n",
       "      <th>LateNightTalkShow</th>\n",
       "      <th>Libertarian</th>\n",
       "      <th>MRA</th>\n",
       "      <th>Mainstream News</th>\n",
       "      <th>PartisanLeft</th>\n",
       "      <th>PartisanRight</th>\n",
       "      <th>Politician</th>\n",
       "      <th>QAnon</th>\n",
       "      <th>ReligiousConservative</th>\n",
       "      <th>SocialJustice</th>\n",
       "      <th>Socialist</th>\n",
       "      <th>StateFunded</th>\n",
       "      <th>WhiteIdentitarian</th>\n",
       "    </tr>\n",
       "  </thead>\n",
       "  <tbody>\n",
       "    <tr>\n",
       "      <th>0</th>\n",
       "      <td>0</td>\n",
       "      <td>0</td>\n",
       "      <td>0</td>\n",
       "      <td>0</td>\n",
       "      <td>0</td>\n",
       "      <td>0</td>\n",
       "      <td>0</td>\n",
       "      <td>0</td>\n",
       "      <td>0</td>\n",
       "      <td>0</td>\n",
       "      <td>1</td>\n",
       "      <td>0</td>\n",
       "      <td>0</td>\n",
       "      <td>1</td>\n",
       "      <td>0</td>\n",
       "      <td>0</td>\n",
       "      <td>0</td>\n",
       "      <td>0</td>\n",
       "    </tr>\n",
       "    <tr>\n",
       "      <th>1</th>\n",
       "      <td>0</td>\n",
       "      <td>0</td>\n",
       "      <td>0</td>\n",
       "      <td>0</td>\n",
       "      <td>0</td>\n",
       "      <td>0</td>\n",
       "      <td>0</td>\n",
       "      <td>0</td>\n",
       "      <td>0</td>\n",
       "      <td>0</td>\n",
       "      <td>1</td>\n",
       "      <td>0</td>\n",
       "      <td>0</td>\n",
       "      <td>1</td>\n",
       "      <td>0</td>\n",
       "      <td>0</td>\n",
       "      <td>0</td>\n",
       "      <td>0</td>\n",
       "    </tr>\n",
       "  </tbody>\n",
       "</table>\n",
       "</div>"
      ],
      "text/plain": [
       "   AntiSJW  AntiTheist  Black  Conspiracy  LGBT  LateNightTalkShow  Libertarian  MRA  Mainstream News  PartisanLeft  PartisanRight  Politician  QAnon  ReligiousConservative  SocialJustice  Socialist  StateFunded  WhiteIdentitarian\n",
       "0        0           0      0           0     0                  0            0    0                0             0              1           0      0                      1              0          0            0                  0\n",
       "1        0           0      0           0     0                  0            0    0                0             0              1           0      0                      1              0          0            0                  0"
      ]
     },
     "execution_count": 40,
     "metadata": {},
     "output_type": "execute_result"
    }
   ],
   "source": [
    "# One hot encoding\n",
    "# make a boolean column for each tag\n",
    "s = df['tags_y']\n",
    "mlb = MultiLabelBinarizer()\n",
    "labels_df = pd.DataFrame(mlb.fit_transform(s), \n",
    "                         columns=mlb.classes_, \n",
    "                         index=df.index)\n",
    "labels_df.head(2)"
   ]
  },
  {
   "cell_type": "code",
   "execution_count": 41,
   "metadata": {},
   "outputs": [
    {
     "name": "stdout",
     "output_type": "stream",
     "text": [
      "(130204, 57)\n"
     ]
    }
   ],
   "source": [
    "# join the labels boolean with the actual data\n",
    "print(df.join(labels_df).shape)\n",
    "df = df.join(labels_df)"
   ]
  },
  {
   "cell_type": "code",
   "execution_count": 42,
   "metadata": {},
   "outputs": [],
   "source": [
    "# rename Mainstream News so it has no space\n",
    "df.rename(columns={\"Mainstream News\": \"MainstreamNews\"}, inplace=True)"
   ]
  },
  {
   "cell_type": "code",
   "execution_count": 43,
   "metadata": {},
   "outputs": [
    {
     "data": {
      "text/html": [
       "<div>\n",
       "<style scoped>\n",
       "    .dataframe tbody tr th:only-of-type {\n",
       "        vertical-align: middle;\n",
       "    }\n",
       "\n",
       "    .dataframe tbody tr th {\n",
       "        vertical-align: top;\n",
       "    }\n",
       "\n",
       "    .dataframe thead th {\n",
       "        text-align: right;\n",
       "    }\n",
       "</style>\n",
       "<table border=\"1\" class=\"dataframe\">\n",
       "  <thead>\n",
       "    <tr style=\"text-align: right;\">\n",
       "      <th></th>\n",
       "      <th>viewCount</th>\n",
       "      <th>videoViews</th>\n",
       "    </tr>\n",
       "  </thead>\n",
       "  <tbody>\n",
       "    <tr>\n",
       "      <th>0</th>\n",
       "      <td>NaN</td>\n",
       "      <td>139227.0</td>\n",
       "    </tr>\n",
       "    <tr>\n",
       "      <th>1</th>\n",
       "      <td>NaN</td>\n",
       "      <td>44945.0</td>\n",
       "    </tr>\n",
       "    <tr>\n",
       "      <th>2</th>\n",
       "      <td>NaN</td>\n",
       "      <td>34296.0</td>\n",
       "    </tr>\n",
       "    <tr>\n",
       "      <th>3</th>\n",
       "      <td>NaN</td>\n",
       "      <td>29820.0</td>\n",
       "    </tr>\n",
       "    <tr>\n",
       "      <th>4</th>\n",
       "      <td>NaN</td>\n",
       "      <td>36035.0</td>\n",
       "    </tr>\n",
       "    <tr>\n",
       "      <th>...</th>\n",
       "      <td>...</td>\n",
       "      <td>...</td>\n",
       "    </tr>\n",
       "    <tr>\n",
       "      <th>130199</th>\n",
       "      <td>12400.0</td>\n",
       "      <td>NaN</td>\n",
       "    </tr>\n",
       "    <tr>\n",
       "      <th>130200</th>\n",
       "      <td>4378.0</td>\n",
       "      <td>NaN</td>\n",
       "    </tr>\n",
       "    <tr>\n",
       "      <th>130201</th>\n",
       "      <td>100824.0</td>\n",
       "      <td>NaN</td>\n",
       "    </tr>\n",
       "    <tr>\n",
       "      <th>130202</th>\n",
       "      <td>17879.0</td>\n",
       "      <td>NaN</td>\n",
       "    </tr>\n",
       "    <tr>\n",
       "      <th>130203</th>\n",
       "      <td>236411.0</td>\n",
       "      <td>NaN</td>\n",
       "    </tr>\n",
       "  </tbody>\n",
       "</table>\n",
       "<p>130204 rows × 2 columns</p>\n",
       "</div>"
      ],
      "text/plain": [
       "        viewCount  videoViews\n",
       "0             NaN    139227.0\n",
       "1             NaN     44945.0\n",
       "2             NaN     34296.0\n",
       "3             NaN     29820.0\n",
       "4             NaN     36035.0\n",
       "...           ...         ...\n",
       "130199    12400.0         NaN\n",
       "130200     4378.0         NaN\n",
       "130201   100824.0         NaN\n",
       "130202    17879.0         NaN\n",
       "130203   236411.0         NaN\n",
       "\n",
       "[130204 rows x 2 columns]"
      ]
     },
     "execution_count": 43,
     "metadata": {},
     "output_type": "execute_result"
    }
   ],
   "source": [
    "# handling view count dupes\n",
    "df[['viewCount', 'videoViews']]"
   ]
  },
  {
   "cell_type": "code",
   "execution_count": 44,
   "metadata": {},
   "outputs": [],
   "source": [
    "# handling view count dupes\n",
    "df['viewCount'] = df['viewCount'].fillna(df['videoViews'])\n",
    "del df['videoViews']"
   ]
  },
  {
   "cell_type": "code",
   "execution_count": 45,
   "metadata": {},
   "outputs": [
    {
     "data": {
      "text/html": [
       "<div>\n",
       "<style scoped>\n",
       "    .dataframe tbody tr th:only-of-type {\n",
       "        vertical-align: middle;\n",
       "    }\n",
       "\n",
       "    .dataframe tbody tr th {\n",
       "        vertical-align: top;\n",
       "    }\n",
       "\n",
       "    .dataframe thead th {\n",
       "        text-align: right;\n",
       "    }\n",
       "</style>\n",
       "<table border=\"1\" class=\"dataframe\">\n",
       "  <thead>\n",
       "    <tr style=\"text-align: right;\">\n",
       "      <th></th>\n",
       "      <th>durationSecs</th>\n",
       "      <th>durationSec</th>\n",
       "    </tr>\n",
       "  </thead>\n",
       "  <tbody>\n",
       "    <tr>\n",
       "      <th>0</th>\n",
       "      <td>138.0</td>\n",
       "      <td>NaN</td>\n",
       "    </tr>\n",
       "    <tr>\n",
       "      <th>1</th>\n",
       "      <td>152.0</td>\n",
       "      <td>NaN</td>\n",
       "    </tr>\n",
       "    <tr>\n",
       "      <th>2</th>\n",
       "      <td>126.0</td>\n",
       "      <td>NaN</td>\n",
       "    </tr>\n",
       "    <tr>\n",
       "      <th>3</th>\n",
       "      <td>120.0</td>\n",
       "      <td>NaN</td>\n",
       "    </tr>\n",
       "    <tr>\n",
       "      <th>4</th>\n",
       "      <td>146.0</td>\n",
       "      <td>NaN</td>\n",
       "    </tr>\n",
       "    <tr>\n",
       "      <th>...</th>\n",
       "      <td>...</td>\n",
       "      <td>...</td>\n",
       "    </tr>\n",
       "    <tr>\n",
       "      <th>130199</th>\n",
       "      <td>NaN</td>\n",
       "      <td>537</td>\n",
       "    </tr>\n",
       "    <tr>\n",
       "      <th>130200</th>\n",
       "      <td>NaN</td>\n",
       "      <td>336</td>\n",
       "    </tr>\n",
       "    <tr>\n",
       "      <th>130201</th>\n",
       "      <td>NaN</td>\n",
       "      <td>193</td>\n",
       "    </tr>\n",
       "    <tr>\n",
       "      <th>130202</th>\n",
       "      <td>NaN</td>\n",
       "      <td>82</td>\n",
       "    </tr>\n",
       "    <tr>\n",
       "      <th>130203</th>\n",
       "      <td>NaN</td>\n",
       "      <td>58</td>\n",
       "    </tr>\n",
       "  </tbody>\n",
       "</table>\n",
       "<p>130204 rows × 2 columns</p>\n",
       "</div>"
      ],
      "text/plain": [
       "        durationSecs durationSec\n",
       "0              138.0         NaN\n",
       "1              152.0         NaN\n",
       "2              126.0         NaN\n",
       "3              120.0         NaN\n",
       "4              146.0         NaN\n",
       "...              ...         ...\n",
       "130199           NaN         537\n",
       "130200           NaN         336\n",
       "130201           NaN         193\n",
       "130202           NaN          82\n",
       "130203           NaN          58\n",
       "\n",
       "[130204 rows x 2 columns]"
      ]
     },
     "execution_count": 45,
     "metadata": {},
     "output_type": "execute_result"
    }
   ],
   "source": [
    "# handing duration rows\n",
    "df[['durationSecs', 'durationSec']]"
   ]
  },
  {
   "cell_type": "code",
   "execution_count": 46,
   "metadata": {},
   "outputs": [],
   "source": [
    "# removing useless duration columns\n",
    "df['durationSecs'] = df['durationSecs'].fillna(df['durationSec'])\n",
    "del df['durationSec']\n",
    "del df['duration']"
   ]
  },
  {
   "cell_type": "code",
   "execution_count": 47,
   "metadata": {},
   "outputs": [],
   "source": [
    "# renaming columns\n",
    "df.rename(columns={'tags_y': 'political_categories', \n",
    "                   'tags_x': 'uploader_tags', \n",
    "                   'channelTitle_x': 'channelTitle', \n",
    "                   'description': 'channel_description'}, \n",
    "          inplace=True)"
   ]
  },
  {
   "cell_type": "code",
   "execution_count": 48,
   "metadata": {},
   "outputs": [
    {
     "data": {
      "text/plain": [
       "True     7078\n",
       "False    3266\n",
       "Name: hasCaptions, dtype: int64"
      ]
     },
     "execution_count": 48,
     "metadata": {},
     "output_type": "execute_result"
    }
   ],
   "source": [
    "# fixing captions\n",
    "df['hasCaptions'].value_counts()"
   ]
  },
  {
   "cell_type": "code",
   "execution_count": 49,
   "metadata": {},
   "outputs": [
    {
     "data": {
      "text/plain": [
       "False    70838\n",
       "false    37688\n",
       "True     10907\n",
       "true       423\n",
       "Name: caption, dtype: int64"
      ]
     },
     "execution_count": 49,
     "metadata": {},
     "output_type": "execute_result"
    }
   ],
   "source": [
    "# fixing captions\n",
    "df['caption'].value_counts()"
   ]
  },
  {
   "cell_type": "code",
   "execution_count": 50,
   "metadata": {},
   "outputs": [],
   "source": [
    "# fixing captions\n",
    "df['caption'] = df['caption'].replace(\"false\", False)\n",
    "df['caption'] = df['caption'].replace(\"true\", True)\n",
    "df['caption'].fillna(value=df[\"hasCaptions\"], inplace=True)\n",
    "del df['hasCaptions']"
   ]
  },
  {
   "cell_type": "code",
   "execution_count": 51,
   "metadata": {},
   "outputs": [],
   "source": [
    "# remove useless columns\n",
    "del df['thumbnail_maxres']\n",
    "del df['channelTitle_y']\n",
    "del df['dimension']\n",
    "del df['dislikeCount']\n",
    "del df['logoUrl']\n",
    "del df['reviewsHuman']"
   ]
  },
  {
   "cell_type": "code",
   "execution_count": 52,
   "metadata": {},
   "outputs": [
    {
     "data": {
      "text/html": [
       "<div>\n",
       "<style scoped>\n",
       "    .dataframe tbody tr th:only-of-type {\n",
       "        vertical-align: middle;\n",
       "    }\n",
       "\n",
       "    .dataframe tbody tr th {\n",
       "        vertical-align: top;\n",
       "    }\n",
       "\n",
       "    .dataframe thead th {\n",
       "        text-align: right;\n",
       "    }\n",
       "</style>\n",
       "<table border=\"1\" class=\"dataframe\">\n",
       "  <thead>\n",
       "    <tr style=\"text-align: right;\">\n",
       "      <th></th>\n",
       "      <th>AntiSJW</th>\n",
       "      <th>AntiTheist</th>\n",
       "      <th>Black</th>\n",
       "      <th>Conspiracy</th>\n",
       "      <th>LGBT</th>\n",
       "      <th>LateNightTalkShow</th>\n",
       "      <th>Libertarian</th>\n",
       "      <th>MRA</th>\n",
       "      <th>MainstreamNews</th>\n",
       "      <th>PartisanLeft</th>\n",
       "      <th>PartisanRight</th>\n",
       "      <th>Politician</th>\n",
       "      <th>QAnon</th>\n",
       "      <th>ReligiousConservative</th>\n",
       "      <th>SocialJustice</th>\n",
       "      <th>Socialist</th>\n",
       "      <th>StateFunded</th>\n",
       "      <th>WhiteIdentitarian</th>\n",
       "      <th>caption</th>\n",
       "      <th>channelId</th>\n",
       "      <th>channelTitle</th>\n",
       "      <th>channelViews</th>\n",
       "      <th>channel_description</th>\n",
       "      <th>commentCount</th>\n",
       "      <th>copyrightHolder</th>\n",
       "      <th>definition</th>\n",
       "      <th>durationSecs</th>\n",
       "      <th>errorType</th>\n",
       "      <th>errorUpdated</th>\n",
       "      <th>favoriteCount</th>\n",
       "      <th>lastSeen</th>\n",
       "      <th>licensedContent</th>\n",
       "      <th>likeCount</th>\n",
       "      <th>lr</th>\n",
       "      <th>political_categories</th>\n",
       "      <th>removed</th>\n",
       "      <th>scaled_channelViews</th>\n",
       "      <th>scaled_subs</th>\n",
       "      <th>scaled_videoViews</th>\n",
       "      <th>subs</th>\n",
       "      <th>uploadDate</th>\n",
       "      <th>uploader_tags</th>\n",
       "      <th>videoCategoryLabel</th>\n",
       "      <th>videoDescription</th>\n",
       "      <th>videoId</th>\n",
       "      <th>videoTitle</th>\n",
       "      <th>viewCount</th>\n",
       "    </tr>\n",
       "  </thead>\n",
       "  <tbody>\n",
       "    <tr>\n",
       "      <th>0</th>\n",
       "      <td>0</td>\n",
       "      <td>0</td>\n",
       "      <td>0</td>\n",
       "      <td>0</td>\n",
       "      <td>0</td>\n",
       "      <td>0</td>\n",
       "      <td>0</td>\n",
       "      <td>0</td>\n",
       "      <td>0</td>\n",
       "      <td>0</td>\n",
       "      <td>1</td>\n",
       "      <td>0</td>\n",
       "      <td>0</td>\n",
       "      <td>1</td>\n",
       "      <td>0</td>\n",
       "      <td>0</td>\n",
       "      <td>0</td>\n",
       "      <td>0</td>\n",
       "      <td>True</td>\n",
       "      <td>UCZWlSUNDvCCS1hBiXV0zKcA</td>\n",
       "      <td>PragerU</td>\n",
       "      <td>1468721472</td>\n",
       "      <td>PragerU is an educational media platform dedic...</td>\n",
       "      <td>NaN</td>\n",
       "      <td>NaN</td>\n",
       "      <td>NaN</td>\n",
       "      <td>138.0</td>\n",
       "      <td>Private</td>\n",
       "      <td>2021-02-08T01:00:58.5676997Z</td>\n",
       "      <td>NaN</td>\n",
       "      <td>2020-12-31T00:09:09.9187461Z</td>\n",
       "      <td>NaN</td>\n",
       "      <td>NaN</td>\n",
       "      <td>R</td>\n",
       "      <td>[PartisanRight, ReligiousConservative]</td>\n",
       "      <td>True</td>\n",
       "      <td>0.094606</td>\n",
       "      <td>0.100368</td>\n",
       "      <td>0.003790</td>\n",
       "      <td>2940000.0</td>\n",
       "      <td>2020-11-06 00:00:00+00:00</td>\n",
       "      <td>NaN</td>\n",
       "      <td>NaN</td>\n",
       "      <td>NaN</td>\n",
       "      <td>H1YOfkFSERc</td>\n",
       "      <td>Who Was Robert E. Lee?</td>\n",
       "      <td>139227.0</td>\n",
       "    </tr>\n",
       "    <tr>\n",
       "      <th>1</th>\n",
       "      <td>0</td>\n",
       "      <td>0</td>\n",
       "      <td>0</td>\n",
       "      <td>0</td>\n",
       "      <td>0</td>\n",
       "      <td>0</td>\n",
       "      <td>0</td>\n",
       "      <td>0</td>\n",
       "      <td>0</td>\n",
       "      <td>0</td>\n",
       "      <td>1</td>\n",
       "      <td>0</td>\n",
       "      <td>0</td>\n",
       "      <td>1</td>\n",
       "      <td>0</td>\n",
       "      <td>0</td>\n",
       "      <td>0</td>\n",
       "      <td>0</td>\n",
       "      <td>True</td>\n",
       "      <td>UCZWlSUNDvCCS1hBiXV0zKcA</td>\n",
       "      <td>PragerU</td>\n",
       "      <td>1468721472</td>\n",
       "      <td>PragerU is an educational media platform dedic...</td>\n",
       "      <td>NaN</td>\n",
       "      <td>NaN</td>\n",
       "      <td>NaN</td>\n",
       "      <td>152.0</td>\n",
       "      <td>Private</td>\n",
       "      <td>2021-02-05T00:08:11.8480929Z</td>\n",
       "      <td>NaN</td>\n",
       "      <td>2021-01-02T00:07:47.3561183Z</td>\n",
       "      <td>NaN</td>\n",
       "      <td>NaN</td>\n",
       "      <td>R</td>\n",
       "      <td>[PartisanRight, ReligiousConservative]</td>\n",
       "      <td>True</td>\n",
       "      <td>0.094606</td>\n",
       "      <td>0.100368</td>\n",
       "      <td>0.001223</td>\n",
       "      <td>2940000.0</td>\n",
       "      <td>2020-10-08 00:00:00+00:00</td>\n",
       "      <td>NaN</td>\n",
       "      <td>NaN</td>\n",
       "      <td>NaN</td>\n",
       "      <td>4of-RIObY6E</td>\n",
       "      <td>Who Was Ulysses S. Grant?</td>\n",
       "      <td>44945.0</td>\n",
       "    </tr>\n",
       "    <tr>\n",
       "      <th>2</th>\n",
       "      <td>0</td>\n",
       "      <td>0</td>\n",
       "      <td>0</td>\n",
       "      <td>0</td>\n",
       "      <td>0</td>\n",
       "      <td>0</td>\n",
       "      <td>0</td>\n",
       "      <td>0</td>\n",
       "      <td>0</td>\n",
       "      <td>0</td>\n",
       "      <td>1</td>\n",
       "      <td>0</td>\n",
       "      <td>0</td>\n",
       "      <td>1</td>\n",
       "      <td>0</td>\n",
       "      <td>0</td>\n",
       "      <td>0</td>\n",
       "      <td>0</td>\n",
       "      <td>True</td>\n",
       "      <td>UCZWlSUNDvCCS1hBiXV0zKcA</td>\n",
       "      <td>PragerU</td>\n",
       "      <td>1468721472</td>\n",
       "      <td>PragerU is an educational media platform dedic...</td>\n",
       "      <td>NaN</td>\n",
       "      <td>NaN</td>\n",
       "      <td>NaN</td>\n",
       "      <td>126.0</td>\n",
       "      <td>Private</td>\n",
       "      <td>2021-01-25T00:09:37.1775316Z</td>\n",
       "      <td>NaN</td>\n",
       "      <td>2021-01-02T00:07:47.3561183Z</td>\n",
       "      <td>NaN</td>\n",
       "      <td>NaN</td>\n",
       "      <td>R</td>\n",
       "      <td>[PartisanRight, ReligiousConservative]</td>\n",
       "      <td>True</td>\n",
       "      <td>0.094606</td>\n",
       "      <td>0.100368</td>\n",
       "      <td>0.000934</td>\n",
       "      <td>2940000.0</td>\n",
       "      <td>2020-11-20 00:00:00+00:00</td>\n",
       "      <td>NaN</td>\n",
       "      <td>NaN</td>\n",
       "      <td>NaN</td>\n",
       "      <td>4_Dch7sQU14</td>\n",
       "      <td>Who Was Frederick Douglass?</td>\n",
       "      <td>34296.0</td>\n",
       "    </tr>\n",
       "  </tbody>\n",
       "</table>\n",
       "</div>"
      ],
      "text/plain": [
       "   AntiSJW  AntiTheist  Black  Conspiracy  LGBT  LateNightTalkShow  Libertarian  MRA  MainstreamNews  PartisanLeft  PartisanRight  Politician  QAnon  ReligiousConservative  SocialJustice  Socialist  StateFunded  WhiteIdentitarian caption                 channelId channelTitle  channelViews                                channel_description  commentCount copyrightHolder definition durationSecs errorType                  errorUpdated  favoriteCount                      lastSeen  licensedContent  likeCount lr                    political_categories  removed  scaled_channelViews  scaled_subs  scaled_videoViews       subs                uploadDate uploader_tags videoCategoryLabel videoDescription      videoId                   videoTitle  viewCount\n",
       "0        0           0      0           0     0                  0            0    0               0             0              1           0      0                      1              0          0            0                  0    True  UCZWlSUNDvCCS1hBiXV0zKcA      PragerU    1468721472  PragerU is an educational media platform dedic...           NaN             NaN        NaN        138.0   Private  2021-02-08T01:00:58.5676997Z            NaN  2020-12-31T00:09:09.9187461Z              NaN        NaN  R  [PartisanRight, ReligiousConservative]     True             0.094606     0.100368           0.003790  2940000.0 2020-11-06 00:00:00+00:00           NaN                NaN              NaN  H1YOfkFSERc       Who Was Robert E. Lee?   139227.0\n",
       "1        0           0      0           0     0                  0            0    0               0             0              1           0      0                      1              0          0            0                  0    True  UCZWlSUNDvCCS1hBiXV0zKcA      PragerU    1468721472  PragerU is an educational media platform dedic...           NaN             NaN        NaN        152.0   Private  2021-02-05T00:08:11.8480929Z            NaN  2021-01-02T00:07:47.3561183Z              NaN        NaN  R  [PartisanRight, ReligiousConservative]     True             0.094606     0.100368           0.001223  2940000.0 2020-10-08 00:00:00+00:00           NaN                NaN              NaN  4of-RIObY6E    Who Was Ulysses S. Grant?    44945.0\n",
       "2        0           0      0           0     0                  0            0    0               0             0              1           0      0                      1              0          0            0                  0    True  UCZWlSUNDvCCS1hBiXV0zKcA      PragerU    1468721472  PragerU is an educational media platform dedic...           NaN             NaN        NaN        126.0   Private  2021-01-25T00:09:37.1775316Z            NaN  2021-01-02T00:07:47.3561183Z              NaN        NaN  R  [PartisanRight, ReligiousConservative]     True             0.094606     0.100368           0.000934  2940000.0 2020-11-20 00:00:00+00:00           NaN                NaN              NaN  4_Dch7sQU14  Who Was Frederick Douglass?    34296.0"
      ]
     },
     "execution_count": 52,
     "metadata": {},
     "output_type": "execute_result"
    }
   ],
   "source": [
    "df = df[sorted(df.columns.to_list())]\n",
    "df.head(3)"
   ]
  },
  {
   "cell_type": "markdown",
   "metadata": {},
   "source": [
    "***\n",
    "## Interesting removals"
   ]
  },
  {
   "cell_type": "markdown",
   "metadata": {},
   "source": [
    "#### Interesting part 1\n",
    "- Community guidelines\n",
    "- Copyright claim\n",
    "- Terms of service"
   ]
  },
  {
   "cell_type": "code",
   "execution_count": 53,
   "metadata": {},
   "outputs": [],
   "source": [
    "df['interesting_removal_1'] = df['errorType'].isin([\"Community guidelines\", \"Copyright claim\", \"Terms of service\"])"
   ]
  },
  {
   "cell_type": "code",
   "execution_count": 54,
   "metadata": {},
   "outputs": [
    {
     "name": "stdout",
     "output_type": "stream",
     "text": [
      "(51, 48)\n"
     ]
    },
    {
     "data": {
      "text/html": [
       "<div>\n",
       "<style scoped>\n",
       "    .dataframe tbody tr th:only-of-type {\n",
       "        vertical-align: middle;\n",
       "    }\n",
       "\n",
       "    .dataframe tbody tr th {\n",
       "        vertical-align: top;\n",
       "    }\n",
       "\n",
       "    .dataframe thead th {\n",
       "        text-align: right;\n",
       "    }\n",
       "</style>\n",
       "<table border=\"1\" class=\"dataframe\">\n",
       "  <thead>\n",
       "    <tr style=\"text-align: right;\">\n",
       "      <th></th>\n",
       "      <th>AntiSJW</th>\n",
       "      <th>AntiTheist</th>\n",
       "      <th>Black</th>\n",
       "      <th>Conspiracy</th>\n",
       "      <th>LGBT</th>\n",
       "      <th>LateNightTalkShow</th>\n",
       "      <th>Libertarian</th>\n",
       "      <th>MRA</th>\n",
       "      <th>MainstreamNews</th>\n",
       "      <th>PartisanLeft</th>\n",
       "      <th>PartisanRight</th>\n",
       "      <th>Politician</th>\n",
       "      <th>QAnon</th>\n",
       "      <th>ReligiousConservative</th>\n",
       "      <th>SocialJustice</th>\n",
       "      <th>Socialist</th>\n",
       "      <th>StateFunded</th>\n",
       "      <th>WhiteIdentitarian</th>\n",
       "      <th>caption</th>\n",
       "      <th>channelId</th>\n",
       "      <th>channelTitle</th>\n",
       "      <th>channelViews</th>\n",
       "      <th>channel_description</th>\n",
       "      <th>commentCount</th>\n",
       "      <th>copyrightHolder</th>\n",
       "      <th>definition</th>\n",
       "      <th>durationSecs</th>\n",
       "      <th>errorType</th>\n",
       "      <th>errorUpdated</th>\n",
       "      <th>favoriteCount</th>\n",
       "      <th>lastSeen</th>\n",
       "      <th>licensedContent</th>\n",
       "      <th>likeCount</th>\n",
       "      <th>lr</th>\n",
       "      <th>political_categories</th>\n",
       "      <th>removed</th>\n",
       "      <th>scaled_channelViews</th>\n",
       "      <th>scaled_subs</th>\n",
       "      <th>scaled_videoViews</th>\n",
       "      <th>subs</th>\n",
       "      <th>uploadDate</th>\n",
       "      <th>uploader_tags</th>\n",
       "      <th>videoCategoryLabel</th>\n",
       "      <th>videoDescription</th>\n",
       "      <th>videoId</th>\n",
       "      <th>videoTitle</th>\n",
       "      <th>viewCount</th>\n",
       "      <th>interesting_removal_1</th>\n",
       "    </tr>\n",
       "  </thead>\n",
       "  <tbody>\n",
       "    <tr>\n",
       "      <th>26</th>\n",
       "      <td>0</td>\n",
       "      <td>0</td>\n",
       "      <td>0</td>\n",
       "      <td>0</td>\n",
       "      <td>0</td>\n",
       "      <td>0</td>\n",
       "      <td>0</td>\n",
       "      <td>0</td>\n",
       "      <td>0</td>\n",
       "      <td>0</td>\n",
       "      <td>1</td>\n",
       "      <td>0</td>\n",
       "      <td>0</td>\n",
       "      <td>1</td>\n",
       "      <td>0</td>\n",
       "      <td>0</td>\n",
       "      <td>0</td>\n",
       "      <td>0</td>\n",
       "      <td>True</td>\n",
       "      <td>UCZWlSUNDvCCS1hBiXV0zKcA</td>\n",
       "      <td>PragerU</td>\n",
       "      <td>1468721472</td>\n",
       "      <td>PragerU is an educational media platform dedic...</td>\n",
       "      <td>NaN</td>\n",
       "      <td>PowerfulJRE</td>\n",
       "      <td>NaN</td>\n",
       "      <td>372.0</td>\n",
       "      <td>Copyright claim</td>\n",
       "      <td>2021-01-31T00:09:02.0606238Z</td>\n",
       "      <td>NaN</td>\n",
       "      <td>2021-01-29T00:09:13.7181536Z</td>\n",
       "      <td>NaN</td>\n",
       "      <td>NaN</td>\n",
       "      <td>R</td>\n",
       "      <td>[PartisanRight, ReligiousConservative]</td>\n",
       "      <td>True</td>\n",
       "      <td>0.094606</td>\n",
       "      <td>0.100368</td>\n",
       "      <td>0.022730</td>\n",
       "      <td>2940000.0</td>\n",
       "      <td>2020-11-02 00:00:00+00:00</td>\n",
       "      <td>NaN</td>\n",
       "      <td>NaN</td>\n",
       "      <td>NaN</td>\n",
       "      <td>s3RvFKMPpBY</td>\n",
       "      <td>Matthew McConaughey Calls Out Hollywood's Cond...</td>\n",
       "      <td>835062.0</td>\n",
       "      <td>True</td>\n",
       "    </tr>\n",
       "    <tr>\n",
       "      <th>24559</th>\n",
       "      <td>0</td>\n",
       "      <td>0</td>\n",
       "      <td>0</td>\n",
       "      <td>0</td>\n",
       "      <td>0</td>\n",
       "      <td>0</td>\n",
       "      <td>0</td>\n",
       "      <td>0</td>\n",
       "      <td>0</td>\n",
       "      <td>0</td>\n",
       "      <td>1</td>\n",
       "      <td>0</td>\n",
       "      <td>0</td>\n",
       "      <td>1</td>\n",
       "      <td>0</td>\n",
       "      <td>0</td>\n",
       "      <td>0</td>\n",
       "      <td>0</td>\n",
       "      <td>True</td>\n",
       "      <td>UCRkEvvXGy2ij9xC7co9MhSg</td>\n",
       "      <td>Hermann Candelaria</td>\n",
       "      <td>9200695</td>\n",
       "      <td></td>\n",
       "      <td>NaN</td>\n",
       "      <td>NaN</td>\n",
       "      <td>NaN</td>\n",
       "      <td>5127.0</td>\n",
       "      <td>Community guidelines</td>\n",
       "      <td>2021-06-15T00:23:39.7490803Z</td>\n",
       "      <td>NaN</td>\n",
       "      <td>2021-06-09T00:11:52.3240834Z</td>\n",
       "      <td>NaN</td>\n",
       "      <td>NaN</td>\n",
       "      <td>R</td>\n",
       "      <td>[PartisanRight, ReligiousConservative]</td>\n",
       "      <td>True</td>\n",
       "      <td>0.000593</td>\n",
       "      <td>0.001620</td>\n",
       "      <td>0.000038</td>\n",
       "      <td>57600.0</td>\n",
       "      <td>2021-06-06 23:28:22.372178500+00:00</td>\n",
       "      <td>NaN</td>\n",
       "      <td>NaN</td>\n",
       "      <td>NaN</td>\n",
       "      <td>mblgHFToqzs</td>\n",
       "      <td>🔴 LIVE: President Donald Trump at the 2021 NC ...</td>\n",
       "      <td>1403.0</td>\n",
       "      <td>True</td>\n",
       "    </tr>\n",
       "    <tr>\n",
       "      <th>24597</th>\n",
       "      <td>0</td>\n",
       "      <td>0</td>\n",
       "      <td>0</td>\n",
       "      <td>0</td>\n",
       "      <td>0</td>\n",
       "      <td>0</td>\n",
       "      <td>0</td>\n",
       "      <td>0</td>\n",
       "      <td>0</td>\n",
       "      <td>0</td>\n",
       "      <td>1</td>\n",
       "      <td>0</td>\n",
       "      <td>0</td>\n",
       "      <td>1</td>\n",
       "      <td>0</td>\n",
       "      <td>0</td>\n",
       "      <td>0</td>\n",
       "      <td>0</td>\n",
       "      <td>True</td>\n",
       "      <td>UCRkEvvXGy2ij9xC7co9MhSg</td>\n",
       "      <td>Hermann Candelaria</td>\n",
       "      <td>9200695</td>\n",
       "      <td></td>\n",
       "      <td>NaN</td>\n",
       "      <td>NaN</td>\n",
       "      <td>NaN</td>\n",
       "      <td>6278.0</td>\n",
       "      <td>Community guidelines</td>\n",
       "      <td>2021-09-01T04:47:27.8768122Z</td>\n",
       "      <td>NaN</td>\n",
       "      <td>2021-08-25T01:25:53.9067498Z</td>\n",
       "      <td>NaN</td>\n",
       "      <td>NaN</td>\n",
       "      <td>R</td>\n",
       "      <td>[PartisanRight, ReligiousConservative]</td>\n",
       "      <td>True</td>\n",
       "      <td>0.000593</td>\n",
       "      <td>0.001620</td>\n",
       "      <td>0.000072</td>\n",
       "      <td>57600.0</td>\n",
       "      <td>2021-08-24 01:25:53.188128300+00:00</td>\n",
       "      <td>NaN</td>\n",
       "      <td>NaN</td>\n",
       "      <td>NaN</td>\n",
       "      <td>jZDco5NajGM</td>\n",
       "      <td>Trump Will Be Back to the White House // Biden...</td>\n",
       "      <td>2631.0</td>\n",
       "      <td>True</td>\n",
       "    </tr>\n",
       "  </tbody>\n",
       "</table>\n",
       "</div>"
      ],
      "text/plain": [
       "       AntiSJW  AntiTheist  Black  Conspiracy  LGBT  LateNightTalkShow  Libertarian  MRA  MainstreamNews  PartisanLeft  PartisanRight  Politician  QAnon  ReligiousConservative  SocialJustice  Socialist  StateFunded  WhiteIdentitarian caption                 channelId        channelTitle  channelViews                                channel_description  commentCount copyrightHolder definition durationSecs             errorType                  errorUpdated  favoriteCount                      lastSeen  licensedContent  likeCount lr                    political_categories  removed  scaled_channelViews  scaled_subs  scaled_videoViews       subs                          uploadDate uploader_tags videoCategoryLabel videoDescription      videoId                                         videoTitle  viewCount  interesting_removal_1\n",
       "26           0           0      0           0     0                  0            0    0               0             0              1           0      0                      1              0          0            0                  0    True  UCZWlSUNDvCCS1hBiXV0zKcA             PragerU    1468721472  PragerU is an educational media platform dedic...           NaN     PowerfulJRE        NaN        372.0       Copyright claim  2021-01-31T00:09:02.0606238Z            NaN  2021-01-29T00:09:13.7181536Z              NaN        NaN  R  [PartisanRight, ReligiousConservative]     True             0.094606     0.100368           0.022730  2940000.0           2020-11-02 00:00:00+00:00           NaN                NaN              NaN  s3RvFKMPpBY  Matthew McConaughey Calls Out Hollywood's Cond...   835062.0                   True\n",
       "24559        0           0      0           0     0                  0            0    0               0             0              1           0      0                      1              0          0            0                  0    True  UCRkEvvXGy2ij9xC7co9MhSg  Hermann Candelaria       9200695                                                              NaN             NaN        NaN       5127.0  Community guidelines  2021-06-15T00:23:39.7490803Z            NaN  2021-06-09T00:11:52.3240834Z              NaN        NaN  R  [PartisanRight, ReligiousConservative]     True             0.000593     0.001620           0.000038    57600.0 2021-06-06 23:28:22.372178500+00:00           NaN                NaN              NaN  mblgHFToqzs  🔴 LIVE: President Donald Trump at the 2021 NC ...     1403.0                   True\n",
       "24597        0           0      0           0     0                  0            0    0               0             0              1           0      0                      1              0          0            0                  0    True  UCRkEvvXGy2ij9xC7co9MhSg  Hermann Candelaria       9200695                                                              NaN             NaN        NaN       6278.0  Community guidelines  2021-09-01T04:47:27.8768122Z            NaN  2021-08-25T01:25:53.9067498Z              NaN        NaN  R  [PartisanRight, ReligiousConservative]     True             0.000593     0.001620           0.000072    57600.0 2021-08-24 01:25:53.188128300+00:00           NaN                NaN              NaN  jZDco5NajGM  Trump Will Be Back to the White House // Biden...     2631.0                   True"
      ]
     },
     "execution_count": 54,
     "metadata": {},
     "output_type": "execute_result"
    }
   ],
   "source": [
    "print(df[df['interesting_removal_1']==True].shape)\n",
    "df[df['interesting_removal_1']==True].head(3)"
   ]
  },
  {
   "cell_type": "code",
   "execution_count": 55,
   "metadata": {},
   "outputs": [],
   "source": [
    "df['interesting_removal_1'] = df['errorType'].isin([\"Community guidelines\", \"Copyright claim\", \"Terms of service\"])"
   ]
  },
  {
   "cell_type": "code",
   "execution_count": 56,
   "metadata": {},
   "outputs": [
    {
     "name": "stdout",
     "output_type": "stream",
     "text": [
      "(51, 48)\n"
     ]
    },
    {
     "data": {
      "text/html": [
       "<div>\n",
       "<style scoped>\n",
       "    .dataframe tbody tr th:only-of-type {\n",
       "        vertical-align: middle;\n",
       "    }\n",
       "\n",
       "    .dataframe tbody tr th {\n",
       "        vertical-align: top;\n",
       "    }\n",
       "\n",
       "    .dataframe thead th {\n",
       "        text-align: right;\n",
       "    }\n",
       "</style>\n",
       "<table border=\"1\" class=\"dataframe\">\n",
       "  <thead>\n",
       "    <tr style=\"text-align: right;\">\n",
       "      <th></th>\n",
       "      <th>AntiSJW</th>\n",
       "      <th>AntiTheist</th>\n",
       "      <th>Black</th>\n",
       "      <th>Conspiracy</th>\n",
       "      <th>LGBT</th>\n",
       "      <th>LateNightTalkShow</th>\n",
       "      <th>Libertarian</th>\n",
       "      <th>MRA</th>\n",
       "      <th>MainstreamNews</th>\n",
       "      <th>PartisanLeft</th>\n",
       "      <th>PartisanRight</th>\n",
       "      <th>Politician</th>\n",
       "      <th>QAnon</th>\n",
       "      <th>ReligiousConservative</th>\n",
       "      <th>SocialJustice</th>\n",
       "      <th>Socialist</th>\n",
       "      <th>StateFunded</th>\n",
       "      <th>WhiteIdentitarian</th>\n",
       "      <th>caption</th>\n",
       "      <th>channelId</th>\n",
       "      <th>channelTitle</th>\n",
       "      <th>channelViews</th>\n",
       "      <th>channel_description</th>\n",
       "      <th>commentCount</th>\n",
       "      <th>copyrightHolder</th>\n",
       "      <th>definition</th>\n",
       "      <th>durationSecs</th>\n",
       "      <th>errorType</th>\n",
       "      <th>errorUpdated</th>\n",
       "      <th>favoriteCount</th>\n",
       "      <th>lastSeen</th>\n",
       "      <th>licensedContent</th>\n",
       "      <th>likeCount</th>\n",
       "      <th>lr</th>\n",
       "      <th>political_categories</th>\n",
       "      <th>removed</th>\n",
       "      <th>scaled_channelViews</th>\n",
       "      <th>scaled_subs</th>\n",
       "      <th>scaled_videoViews</th>\n",
       "      <th>subs</th>\n",
       "      <th>uploadDate</th>\n",
       "      <th>uploader_tags</th>\n",
       "      <th>videoCategoryLabel</th>\n",
       "      <th>videoDescription</th>\n",
       "      <th>videoId</th>\n",
       "      <th>videoTitle</th>\n",
       "      <th>viewCount</th>\n",
       "      <th>interesting_removal_1</th>\n",
       "    </tr>\n",
       "  </thead>\n",
       "  <tbody>\n",
       "    <tr>\n",
       "      <th>26</th>\n",
       "      <td>0</td>\n",
       "      <td>0</td>\n",
       "      <td>0</td>\n",
       "      <td>0</td>\n",
       "      <td>0</td>\n",
       "      <td>0</td>\n",
       "      <td>0</td>\n",
       "      <td>0</td>\n",
       "      <td>0</td>\n",
       "      <td>0</td>\n",
       "      <td>1</td>\n",
       "      <td>0</td>\n",
       "      <td>0</td>\n",
       "      <td>1</td>\n",
       "      <td>0</td>\n",
       "      <td>0</td>\n",
       "      <td>0</td>\n",
       "      <td>0</td>\n",
       "      <td>True</td>\n",
       "      <td>UCZWlSUNDvCCS1hBiXV0zKcA</td>\n",
       "      <td>PragerU</td>\n",
       "      <td>1468721472</td>\n",
       "      <td>PragerU is an educational media platform dedic...</td>\n",
       "      <td>NaN</td>\n",
       "      <td>PowerfulJRE</td>\n",
       "      <td>NaN</td>\n",
       "      <td>372.0</td>\n",
       "      <td>Copyright claim</td>\n",
       "      <td>2021-01-31T00:09:02.0606238Z</td>\n",
       "      <td>NaN</td>\n",
       "      <td>2021-01-29T00:09:13.7181536Z</td>\n",
       "      <td>NaN</td>\n",
       "      <td>NaN</td>\n",
       "      <td>R</td>\n",
       "      <td>[PartisanRight, ReligiousConservative]</td>\n",
       "      <td>True</td>\n",
       "      <td>0.094606</td>\n",
       "      <td>0.100368</td>\n",
       "      <td>0.022730</td>\n",
       "      <td>2940000.0</td>\n",
       "      <td>2020-11-02 00:00:00+00:00</td>\n",
       "      <td>NaN</td>\n",
       "      <td>NaN</td>\n",
       "      <td>NaN</td>\n",
       "      <td>s3RvFKMPpBY</td>\n",
       "      <td>Matthew McConaughey Calls Out Hollywood's Cond...</td>\n",
       "      <td>835062.0</td>\n",
       "      <td>True</td>\n",
       "    </tr>\n",
       "    <tr>\n",
       "      <th>24559</th>\n",
       "      <td>0</td>\n",
       "      <td>0</td>\n",
       "      <td>0</td>\n",
       "      <td>0</td>\n",
       "      <td>0</td>\n",
       "      <td>0</td>\n",
       "      <td>0</td>\n",
       "      <td>0</td>\n",
       "      <td>0</td>\n",
       "      <td>0</td>\n",
       "      <td>1</td>\n",
       "      <td>0</td>\n",
       "      <td>0</td>\n",
       "      <td>1</td>\n",
       "      <td>0</td>\n",
       "      <td>0</td>\n",
       "      <td>0</td>\n",
       "      <td>0</td>\n",
       "      <td>True</td>\n",
       "      <td>UCRkEvvXGy2ij9xC7co9MhSg</td>\n",
       "      <td>Hermann Candelaria</td>\n",
       "      <td>9200695</td>\n",
       "      <td></td>\n",
       "      <td>NaN</td>\n",
       "      <td>NaN</td>\n",
       "      <td>NaN</td>\n",
       "      <td>5127.0</td>\n",
       "      <td>Community guidelines</td>\n",
       "      <td>2021-06-15T00:23:39.7490803Z</td>\n",
       "      <td>NaN</td>\n",
       "      <td>2021-06-09T00:11:52.3240834Z</td>\n",
       "      <td>NaN</td>\n",
       "      <td>NaN</td>\n",
       "      <td>R</td>\n",
       "      <td>[PartisanRight, ReligiousConservative]</td>\n",
       "      <td>True</td>\n",
       "      <td>0.000593</td>\n",
       "      <td>0.001620</td>\n",
       "      <td>0.000038</td>\n",
       "      <td>57600.0</td>\n",
       "      <td>2021-06-06 23:28:22.372178500+00:00</td>\n",
       "      <td>NaN</td>\n",
       "      <td>NaN</td>\n",
       "      <td>NaN</td>\n",
       "      <td>mblgHFToqzs</td>\n",
       "      <td>🔴 LIVE: President Donald Trump at the 2021 NC ...</td>\n",
       "      <td>1403.0</td>\n",
       "      <td>True</td>\n",
       "    </tr>\n",
       "    <tr>\n",
       "      <th>24597</th>\n",
       "      <td>0</td>\n",
       "      <td>0</td>\n",
       "      <td>0</td>\n",
       "      <td>0</td>\n",
       "      <td>0</td>\n",
       "      <td>0</td>\n",
       "      <td>0</td>\n",
       "      <td>0</td>\n",
       "      <td>0</td>\n",
       "      <td>0</td>\n",
       "      <td>1</td>\n",
       "      <td>0</td>\n",
       "      <td>0</td>\n",
       "      <td>1</td>\n",
       "      <td>0</td>\n",
       "      <td>0</td>\n",
       "      <td>0</td>\n",
       "      <td>0</td>\n",
       "      <td>True</td>\n",
       "      <td>UCRkEvvXGy2ij9xC7co9MhSg</td>\n",
       "      <td>Hermann Candelaria</td>\n",
       "      <td>9200695</td>\n",
       "      <td></td>\n",
       "      <td>NaN</td>\n",
       "      <td>NaN</td>\n",
       "      <td>NaN</td>\n",
       "      <td>6278.0</td>\n",
       "      <td>Community guidelines</td>\n",
       "      <td>2021-09-01T04:47:27.8768122Z</td>\n",
       "      <td>NaN</td>\n",
       "      <td>2021-08-25T01:25:53.9067498Z</td>\n",
       "      <td>NaN</td>\n",
       "      <td>NaN</td>\n",
       "      <td>R</td>\n",
       "      <td>[PartisanRight, ReligiousConservative]</td>\n",
       "      <td>True</td>\n",
       "      <td>0.000593</td>\n",
       "      <td>0.001620</td>\n",
       "      <td>0.000072</td>\n",
       "      <td>57600.0</td>\n",
       "      <td>2021-08-24 01:25:53.188128300+00:00</td>\n",
       "      <td>NaN</td>\n",
       "      <td>NaN</td>\n",
       "      <td>NaN</td>\n",
       "      <td>jZDco5NajGM</td>\n",
       "      <td>Trump Will Be Back to the White House // Biden...</td>\n",
       "      <td>2631.0</td>\n",
       "      <td>True</td>\n",
       "    </tr>\n",
       "  </tbody>\n",
       "</table>\n",
       "</div>"
      ],
      "text/plain": [
       "       AntiSJW  AntiTheist  Black  Conspiracy  LGBT  LateNightTalkShow  Libertarian  MRA  MainstreamNews  PartisanLeft  PartisanRight  Politician  QAnon  ReligiousConservative  SocialJustice  Socialist  StateFunded  WhiteIdentitarian caption                 channelId        channelTitle  channelViews                                channel_description  commentCount copyrightHolder definition durationSecs             errorType                  errorUpdated  favoriteCount                      lastSeen  licensedContent  likeCount lr                    political_categories  removed  scaled_channelViews  scaled_subs  scaled_videoViews       subs                          uploadDate uploader_tags videoCategoryLabel videoDescription      videoId                                         videoTitle  viewCount  interesting_removal_1\n",
       "26           0           0      0           0     0                  0            0    0               0             0              1           0      0                      1              0          0            0                  0    True  UCZWlSUNDvCCS1hBiXV0zKcA             PragerU    1468721472  PragerU is an educational media platform dedic...           NaN     PowerfulJRE        NaN        372.0       Copyright claim  2021-01-31T00:09:02.0606238Z            NaN  2021-01-29T00:09:13.7181536Z              NaN        NaN  R  [PartisanRight, ReligiousConservative]     True             0.094606     0.100368           0.022730  2940000.0           2020-11-02 00:00:00+00:00           NaN                NaN              NaN  s3RvFKMPpBY  Matthew McConaughey Calls Out Hollywood's Cond...   835062.0                   True\n",
       "24559        0           0      0           0     0                  0            0    0               0             0              1           0      0                      1              0          0            0                  0    True  UCRkEvvXGy2ij9xC7co9MhSg  Hermann Candelaria       9200695                                                              NaN             NaN        NaN       5127.0  Community guidelines  2021-06-15T00:23:39.7490803Z            NaN  2021-06-09T00:11:52.3240834Z              NaN        NaN  R  [PartisanRight, ReligiousConservative]     True             0.000593     0.001620           0.000038    57600.0 2021-06-06 23:28:22.372178500+00:00           NaN                NaN              NaN  mblgHFToqzs  🔴 LIVE: President Donald Trump at the 2021 NC ...     1403.0                   True\n",
       "24597        0           0      0           0     0                  0            0    0               0             0              1           0      0                      1              0          0            0                  0    True  UCRkEvvXGy2ij9xC7co9MhSg  Hermann Candelaria       9200695                                                              NaN             NaN        NaN       6278.0  Community guidelines  2021-09-01T04:47:27.8768122Z            NaN  2021-08-25T01:25:53.9067498Z              NaN        NaN  R  [PartisanRight, ReligiousConservative]     True             0.000593     0.001620           0.000072    57600.0 2021-08-24 01:25:53.188128300+00:00           NaN                NaN              NaN  jZDco5NajGM  Trump Will Be Back to the White House // Biden...     2631.0                   True"
      ]
     },
     "execution_count": 56,
     "metadata": {},
     "output_type": "execute_result"
    }
   ],
   "source": [
    "print(df[df['interesting_removal_1']==True].shape)\n",
    "df[df['interesting_removal_1']==True].head(3)"
   ]
  },
  {
   "cell_type": "code",
   "execution_count": 57,
   "metadata": {},
   "outputs": [
    {
     "data": {
      "text/html": [
       "<div>\n",
       "<style scoped>\n",
       "    .dataframe tbody tr th:only-of-type {\n",
       "        vertical-align: middle;\n",
       "    }\n",
       "\n",
       "    .dataframe tbody tr th {\n",
       "        vertical-align: top;\n",
       "    }\n",
       "\n",
       "    .dataframe thead th {\n",
       "        text-align: right;\n",
       "    }\n",
       "</style>\n",
       "<table border=\"1\" class=\"dataframe\">\n",
       "  <thead>\n",
       "    <tr style=\"text-align: right;\">\n",
       "      <th></th>\n",
       "      <th>videoId</th>\n",
       "    </tr>\n",
       "    <tr>\n",
       "      <th>errorType</th>\n",
       "      <th></th>\n",
       "    </tr>\n",
       "  </thead>\n",
       "  <tbody>\n",
       "    <tr>\n",
       "      <th>Community guidelines</th>\n",
       "      <td>28</td>\n",
       "    </tr>\n",
       "    <tr>\n",
       "      <th>Copyright claim</th>\n",
       "      <td>19</td>\n",
       "    </tr>\n",
       "    <tr>\n",
       "      <th>Terms of service</th>\n",
       "      <td>4</td>\n",
       "    </tr>\n",
       "  </tbody>\n",
       "</table>\n",
       "</div>"
      ],
      "text/plain": [
       "                      videoId\n",
       "errorType                    \n",
       "Community guidelines       28\n",
       "Copyright claim            19\n",
       "Terms of service            4"
      ]
     },
     "execution_count": 57,
     "metadata": {},
     "output_type": "execute_result"
    }
   ],
   "source": [
    "interesting_removals1 = df[df['errorType'].isin([\"Community guidelines\", \"Copyright claim\", \"Terms of service\"])]\n",
    "interesting_removals1 = interesting_removals1.groupby('errorType').count()[['videoId']].sort_values(by='videoId', ascending=False)\n",
    "interesting_removals1"
   ]
  },
  {
   "cell_type": "code",
   "execution_count": 58,
   "metadata": {},
   "outputs": [
    {
     "data": {
      "image/png": "[encoded data removed]",
      "text/plain": [
       "<Figure size 504x360 with 1 Axes>"
      ]
     },
     "metadata": {
      "needs_background": "light"
     },
     "output_type": "display_data"
    }
   ],
   "source": [
    "# Number of videos based on Interesting Removals Type 1\n",
    "error_tags = list(interesting_removals1.index)\n",
    "no_of_videos = list(interesting_removals1['videoId'])\n",
    "\n",
    "fig = plt.figure(figsize=(7, 5))\n",
    "ax = fig.add_axes([0,0,1,1])\n",
    "ax.bar(error_tags, no_of_videos)\n",
    "plt.title('Number of videos based on Interesting Removals Type 1')\n",
    "plt.show()"
   ]
  },
  {
   "cell_type": "markdown",
   "metadata": {},
   "source": [
    "#### Interesting part 2\n",
    "- Community guidelines\n",
    "- Copyright claim\n",
    "- Terms of service\n",
    "- Unavailable"
   ]
  },
  {
   "cell_type": "code",
   "execution_count": 59,
   "metadata": {},
   "outputs": [],
   "source": [
    "df['interesting_removal_2'] = df['errorType'].isin([\"Community guidelines\", \"Copyright claim\", \"Terms of service\", \"Unavailable\"])"
   ]
  },
  {
   "cell_type": "code",
   "execution_count": 60,
   "metadata": {},
   "outputs": [
    {
     "name": "stdout",
     "output_type": "stream",
     "text": [
      "(2387, 49)\n"
     ]
    },
    {
     "data": {
      "text/html": [
       "<div>\n",
       "<style scoped>\n",
       "    .dataframe tbody tr th:only-of-type {\n",
       "        vertical-align: middle;\n",
       "    }\n",
       "\n",
       "    .dataframe tbody tr th {\n",
       "        vertical-align: top;\n",
       "    }\n",
       "\n",
       "    .dataframe thead th {\n",
       "        text-align: right;\n",
       "    }\n",
       "</style>\n",
       "<table border=\"1\" class=\"dataframe\">\n",
       "  <thead>\n",
       "    <tr style=\"text-align: right;\">\n",
       "      <th></th>\n",
       "      <th>AntiSJW</th>\n",
       "      <th>AntiTheist</th>\n",
       "      <th>Black</th>\n",
       "      <th>Conspiracy</th>\n",
       "      <th>LGBT</th>\n",
       "      <th>LateNightTalkShow</th>\n",
       "      <th>Libertarian</th>\n",
       "      <th>MRA</th>\n",
       "      <th>MainstreamNews</th>\n",
       "      <th>PartisanLeft</th>\n",
       "      <th>PartisanRight</th>\n",
       "      <th>Politician</th>\n",
       "      <th>QAnon</th>\n",
       "      <th>ReligiousConservative</th>\n",
       "      <th>SocialJustice</th>\n",
       "      <th>Socialist</th>\n",
       "      <th>StateFunded</th>\n",
       "      <th>WhiteIdentitarian</th>\n",
       "      <th>caption</th>\n",
       "      <th>channelId</th>\n",
       "      <th>channelTitle</th>\n",
       "      <th>channelViews</th>\n",
       "      <th>channel_description</th>\n",
       "      <th>commentCount</th>\n",
       "      <th>copyrightHolder</th>\n",
       "      <th>definition</th>\n",
       "      <th>durationSecs</th>\n",
       "      <th>errorType</th>\n",
       "      <th>errorUpdated</th>\n",
       "      <th>favoriteCount</th>\n",
       "      <th>lastSeen</th>\n",
       "      <th>licensedContent</th>\n",
       "      <th>likeCount</th>\n",
       "      <th>lr</th>\n",
       "      <th>political_categories</th>\n",
       "      <th>removed</th>\n",
       "      <th>scaled_channelViews</th>\n",
       "      <th>scaled_subs</th>\n",
       "      <th>scaled_videoViews</th>\n",
       "      <th>subs</th>\n",
       "      <th>uploadDate</th>\n",
       "      <th>uploader_tags</th>\n",
       "      <th>videoCategoryLabel</th>\n",
       "      <th>videoDescription</th>\n",
       "      <th>videoId</th>\n",
       "      <th>videoTitle</th>\n",
       "      <th>viewCount</th>\n",
       "      <th>interesting_removal_1</th>\n",
       "      <th>interesting_removal_2</th>\n",
       "    </tr>\n",
       "  </thead>\n",
       "  <tbody>\n",
       "    <tr>\n",
       "      <th>26</th>\n",
       "      <td>0</td>\n",
       "      <td>0</td>\n",
       "      <td>0</td>\n",
       "      <td>0</td>\n",
       "      <td>0</td>\n",
       "      <td>0</td>\n",
       "      <td>0</td>\n",
       "      <td>0</td>\n",
       "      <td>0</td>\n",
       "      <td>0</td>\n",
       "      <td>1</td>\n",
       "      <td>0</td>\n",
       "      <td>0</td>\n",
       "      <td>1</td>\n",
       "      <td>0</td>\n",
       "      <td>0</td>\n",
       "      <td>0</td>\n",
       "      <td>0</td>\n",
       "      <td>True</td>\n",
       "      <td>UCZWlSUNDvCCS1hBiXV0zKcA</td>\n",
       "      <td>PragerU</td>\n",
       "      <td>1468721472</td>\n",
       "      <td>PragerU is an educational media platform dedic...</td>\n",
       "      <td>NaN</td>\n",
       "      <td>PowerfulJRE</td>\n",
       "      <td>NaN</td>\n",
       "      <td>372.0</td>\n",
       "      <td>Copyright claim</td>\n",
       "      <td>2021-01-31T00:09:02.0606238Z</td>\n",
       "      <td>NaN</td>\n",
       "      <td>2021-01-29T00:09:13.7181536Z</td>\n",
       "      <td>NaN</td>\n",
       "      <td>NaN</td>\n",
       "      <td>R</td>\n",
       "      <td>[PartisanRight, ReligiousConservative]</td>\n",
       "      <td>True</td>\n",
       "      <td>0.094606</td>\n",
       "      <td>0.100368</td>\n",
       "      <td>0.022730</td>\n",
       "      <td>2940000.0</td>\n",
       "      <td>2020-11-02 00:00:00+00:00</td>\n",
       "      <td>NaN</td>\n",
       "      <td>NaN</td>\n",
       "      <td>NaN</td>\n",
       "      <td>s3RvFKMPpBY</td>\n",
       "      <td>Matthew McConaughey Calls Out Hollywood's Cond...</td>\n",
       "      <td>835062.0</td>\n",
       "      <td>True</td>\n",
       "      <td>True</td>\n",
       "    </tr>\n",
       "    <tr>\n",
       "      <th>1925</th>\n",
       "      <td>0</td>\n",
       "      <td>0</td>\n",
       "      <td>0</td>\n",
       "      <td>0</td>\n",
       "      <td>0</td>\n",
       "      <td>0</td>\n",
       "      <td>0</td>\n",
       "      <td>0</td>\n",
       "      <td>0</td>\n",
       "      <td>0</td>\n",
       "      <td>0</td>\n",
       "      <td>0</td>\n",
       "      <td>0</td>\n",
       "      <td>1</td>\n",
       "      <td>0</td>\n",
       "      <td>0</td>\n",
       "      <td>0</td>\n",
       "      <td>0</td>\n",
       "      <td>True</td>\n",
       "      <td>UCijDos-LUTh9RQvSCMQqN6Q</td>\n",
       "      <td>EWTN</td>\n",
       "      <td>198020094</td>\n",
       "      <td>EWTN Global Catholic Network, in its 39th year...</td>\n",
       "      <td>NaN</td>\n",
       "      <td>NaN</td>\n",
       "      <td>NaN</td>\n",
       "      <td>3543.0</td>\n",
       "      <td>Unavailable</td>\n",
       "      <td>2021-02-03T00:47:55.813483Z</td>\n",
       "      <td>NaN</td>\n",
       "      <td>2020-12-31T00:22:52.3503658Z</td>\n",
       "      <td>NaN</td>\n",
       "      <td>NaN</td>\n",
       "      <td>C</td>\n",
       "      <td>[ReligiousConservative]</td>\n",
       "      <td>True</td>\n",
       "      <td>0.012755</td>\n",
       "      <td>0.021299</td>\n",
       "      <td>0.000099</td>\n",
       "      <td>632000.0</td>\n",
       "      <td>2020-12-30 15:56:01+00:00</td>\n",
       "      <td>NaN</td>\n",
       "      <td>NaN</td>\n",
       "      <td>NaN</td>\n",
       "      <td>afLvba8hdmI</td>\n",
       "      <td>Daily Mass - 2020-12-30</td>\n",
       "      <td>3625.0</td>\n",
       "      <td>False</td>\n",
       "      <td>True</td>\n",
       "    </tr>\n",
       "  </tbody>\n",
       "</table>\n",
       "</div>"
      ],
      "text/plain": [
       "      AntiSJW  AntiTheist  Black  Conspiracy  LGBT  LateNightTalkShow  Libertarian  MRA  MainstreamNews  PartisanLeft  PartisanRight  Politician  QAnon  ReligiousConservative  SocialJustice  Socialist  StateFunded  WhiteIdentitarian caption                 channelId channelTitle  channelViews                                channel_description  commentCount copyrightHolder definition durationSecs        errorType                  errorUpdated  favoriteCount                      lastSeen  licensedContent  likeCount lr                    political_categories  removed  scaled_channelViews  scaled_subs  scaled_videoViews       subs                uploadDate uploader_tags videoCategoryLabel videoDescription      videoId                                         videoTitle  viewCount  interesting_removal_1  interesting_removal_2\n",
       "26          0           0      0           0     0                  0            0    0               0             0              1           0      0                      1              0          0            0                  0    True  UCZWlSUNDvCCS1hBiXV0zKcA      PragerU    1468721472  PragerU is an educational media platform dedic...           NaN     PowerfulJRE        NaN        372.0  Copyright claim  2021-01-31T00:09:02.0606238Z            NaN  2021-01-29T00:09:13.7181536Z              NaN        NaN  R  [PartisanRight, ReligiousConservative]     True             0.094606     0.100368           0.022730  2940000.0 2020-11-02 00:00:00+00:00           NaN                NaN              NaN  s3RvFKMPpBY  Matthew McConaughey Calls Out Hollywood's Cond...   835062.0                   True                   True\n",
       "1925        0           0      0           0     0                  0            0    0               0             0              0           0      0                      1              0          0            0                  0    True  UCijDos-LUTh9RQvSCMQqN6Q         EWTN     198020094  EWTN Global Catholic Network, in its 39th year...           NaN             NaN        NaN       3543.0      Unavailable   2021-02-03T00:47:55.813483Z            NaN  2020-12-31T00:22:52.3503658Z              NaN        NaN  C                 [ReligiousConservative]     True             0.012755     0.021299           0.000099   632000.0 2020-12-30 15:56:01+00:00           NaN                NaN              NaN  afLvba8hdmI                            Daily Mass - 2020-12-30     3625.0                  False                   True"
      ]
     },
     "execution_count": 60,
     "metadata": {},
     "output_type": "execute_result"
    }
   ],
   "source": [
    "print(df[df['interesting_removal_2']==True].shape)\n",
    "df[df['interesting_removal_2']==True].head(2)"
   ]
  },
  {
   "cell_type": "code",
   "execution_count": 61,
   "metadata": {},
   "outputs": [
    {
     "data": {
      "text/html": [
       "<div>\n",
       "<style scoped>\n",
       "    .dataframe tbody tr th:only-of-type {\n",
       "        vertical-align: middle;\n",
       "    }\n",
       "\n",
       "    .dataframe tbody tr th {\n",
       "        vertical-align: top;\n",
       "    }\n",
       "\n",
       "    .dataframe thead th {\n",
       "        text-align: right;\n",
       "    }\n",
       "</style>\n",
       "<table border=\"1\" class=\"dataframe\">\n",
       "  <thead>\n",
       "    <tr style=\"text-align: right;\">\n",
       "      <th></th>\n",
       "      <th>videoId</th>\n",
       "    </tr>\n",
       "    <tr>\n",
       "      <th>errorType</th>\n",
       "      <th></th>\n",
       "    </tr>\n",
       "  </thead>\n",
       "  <tbody>\n",
       "    <tr>\n",
       "      <th>Unavailable</th>\n",
       "      <td>2336</td>\n",
       "    </tr>\n",
       "    <tr>\n",
       "      <th>Community guidelines</th>\n",
       "      <td>28</td>\n",
       "    </tr>\n",
       "    <tr>\n",
       "      <th>Copyright claim</th>\n",
       "      <td>19</td>\n",
       "    </tr>\n",
       "    <tr>\n",
       "      <th>Terms of service</th>\n",
       "      <td>4</td>\n",
       "    </tr>\n",
       "  </tbody>\n",
       "</table>\n",
       "</div>"
      ],
      "text/plain": [
       "                      videoId\n",
       "errorType                    \n",
       "Unavailable              2336\n",
       "Community guidelines       28\n",
       "Copyright claim            19\n",
       "Terms of service            4"
      ]
     },
     "execution_count": 61,
     "metadata": {},
     "output_type": "execute_result"
    }
   ],
   "source": [
    "interesting_removals2 = df[df['errorType'].isin([\"Community guidelines\", \"Copyright claim\", \"Terms of service\", \"Unavailable\"])]\n",
    "interesting_removals2 = interesting_removals2.groupby('errorType').count()[['videoId']].sort_values(by='videoId', ascending=False)\n",
    "interesting_removals2"
   ]
  },
  {
   "cell_type": "code",
   "execution_count": 62,
   "metadata": {},
   "outputs": [
    {
     "data": {
      "image/png": "[encoded data removed]",
      "text/plain": [
       "<Figure size 504x360 with 1 Axes>"
      ]
     },
     "metadata": {
      "needs_background": "light"
     },
     "output_type": "display_data"
    }
   ],
   "source": [
    "# Number of videos based on Interesting Removals Type 2\n",
    "error_tags = list(interesting_removals2.index)\n",
    "no_of_videos = list(interesting_removals2['videoId'])\n",
    "\n",
    "fig = plt.figure(figsize=(7, 5))\n",
    "ax = fig.add_axes([0,0,1,1])\n",
    "ax.bar(error_tags, no_of_videos)\n",
    "plt.title('Number of videos based on Interesting Removals')\n",
    "plt.savefig('Number of videos based on Interesting Removals.png',bbox_inches='tight', dpi=150)\n",
    "plt.show()"
   ]
  },
  {
   "cell_type": "code",
   "execution_count": 63,
   "metadata": {},
   "outputs": [
    {
     "data": {
      "image/png": "[encoded data removed]",
      "text/plain": [
       "<Figure size 1080x508.5 with 2 Axes>"
      ]
     },
     "metadata": {},
     "output_type": "display_data"
    }
   ],
   "source": [
    "# make figure and assign axis objects\n",
    "fig = plt.figure(figsize=(15, 7.0625))\n",
    "ax1 = fig.add_subplot(121)\n",
    "ax2 = fig.add_subplot(122)\n",
    "fig.subplots_adjust(wspace=0)\n",
    "\n",
    "# large pie chart parameters\n",
    "ratios = list(videos_errorType['videoId'])\n",
    "labels = list(videos_errorType.index)\n",
    "# rotate so that first wedge is split by the x-axis\n",
    "angle = -180 * ratios[0]\n",
    "explode = (0.01, 0.1, 0.01, 0.01, 0.1, 0.1, 0.1, 0.01, 0.01, 0.01)\n",
    "ax1.pie(ratios, startangle=angle,\n",
    "        # autopct='%1.1f%%', \n",
    "        shadow=True, explode=explode)\n",
    "ax1.legend(labels=labels, bbox_to_anchor=(1,0.5), loc=\"center right\", fontsize=12, \n",
    "           bbox_transform=plt.gcf().transFigure)\n",
    "\n",
    "\n",
    "# small pie chart parameters\n",
    "ratios = list(interesting_removals2['videoId'])\n",
    "labels = list(interesting_removals2.index)\n",
    "width = .2\n",
    "explode = (0.01, 0, 0, 0)\n",
    "ax2.pie(ratios, \n",
    "        # autopct='%1.1f%%', \n",
    "        startangle=angle,\n",
    "         radius=0.5, textprops={'size': 'smaller'}, shadow=True, explode=explode, \n",
    "        colors=['#FF7F0E', '#9467BD', '#8C564B', '#E377C2'])\n",
    "\n",
    "ax1.set_title('All error types', fontsize=16)\n",
    "ax2.set_title('Interesting Removals', fontsize=16)\n",
    "\n",
    "plt.savefig('All error types vs Interesting removals.png',bbox_inches='tight', dpi=150)\n",
    "plt.show()"
   ]
  },
  {
   "cell_type": "markdown",
   "metadata": {},
   "source": [
    "***\n",
    "## Filter by year"
   ]
  },
  {
   "cell_type": "code",
   "execution_count": 64,
   "metadata": {},
   "outputs": [
    {
     "data": {
      "text/plain": [
       "(array([  215.,   354.,   211.,  1219.,  4071.,  5553., 10242., 15357.,\n",
       "        36606., 46032.]),\n",
       " array([13437.03168981, 14003.89574421, 14570.75979861, 15137.62385301,\n",
       "        15704.48790741, 16271.35196181, 16838.2160162 , 17405.0800706 ,\n",
       "        17971.944125  , 18538.8081794 , 19105.6722338 ]),\n",
       " <BarContainer object of 10 artists>)"
      ]
     },
     "execution_count": 64,
     "metadata": {},
     "output_type": "execute_result"
    },
    {
     "data": {
      "image/png": "[encoded data removed]",
      "text/plain": [
       "<Figure size 432x288 with 1 Axes>"
      ]
     },
     "metadata": {
      "needs_background": "light"
     },
     "output_type": "display_data"
    }
   ],
   "source": [
    "# Histogram of removed videos by date\n",
    "plt.hist(df[df['removed']==False]['uploadDate'])"
   ]
  },
  {
   "cell_type": "code",
   "execution_count": 65,
   "metadata": {},
   "outputs": [
    {
     "data": {
      "text/plain": [
       "(array([2.000e+00, 6.000e+00, 1.100e+01, 1.100e+01, 5.200e+01, 9.600e+01,\n",
       "        1.340e+02, 5.080e+02, 2.825e+03, 6.699e+03]),\n",
       " array([15574.02517361, 15915.923827  , 16257.82248039, 16599.72113378,\n",
       "        16941.61978717, 17283.51844056, 17625.41709395, 17967.31574734,\n",
       "        18309.21440073, 18651.11305412, 18993.01170752]),\n",
       " <BarContainer object of 10 artists>)"
      ]
     },
     "execution_count": 65,
     "metadata": {},
     "output_type": "execute_result"
    },
    {
     "data": {
      "image/png": "[encoded data removed]",
      "text/plain": [
       "<Figure size 432x288 with 1 Axes>"
      ]
     },
     "metadata": {
      "needs_background": "light"
     },
     "output_type": "display_data"
    }
   ],
   "source": [
    "# Histogram of unremoved videos by date\n",
    "plt.hist(df[df['removed']==True]['uploadDate'])"
   ]
  },
  {
   "cell_type": "code",
   "execution_count": 66,
   "metadata": {},
   "outputs": [
    {
     "name": "stdout",
     "output_type": "stream",
     "text": [
      "Before length: 130,204\n",
      "After length: 35,463\n"
     ]
    }
   ],
   "source": [
    "# Filter for only videos published in 2021 \n",
    "print(f'Before length: {df.shape[0]:,}')\n",
    "df = df[(df['uploadDate'] >= '2021-01-01') & (df['uploadDate'] < '2022-01-01')]\n",
    "print(f'After length: {df.shape[0]:,}')"
   ]
  },
  {
   "cell_type": "code",
   "execution_count": 67,
   "metadata": {},
   "outputs": [
    {
     "data": {
      "text/plain": [
       "1425"
      ]
     },
     "execution_count": 67,
     "metadata": {},
     "output_type": "execute_result"
    }
   ],
   "source": [
    "# how many removed and unremoved?\n",
    "df[df['interesting_removal_2']==True].shape[0]"
   ]
  },
  {
   "cell_type": "code",
   "execution_count": 68,
   "metadata": {},
   "outputs": [
    {
     "data": {
      "text/plain": [
       "34038"
      ]
     },
     "execution_count": 68,
     "metadata": {},
     "output_type": "execute_result"
    }
   ],
   "source": [
    "df[df['interesting_removal_2']==False].shape[0]"
   ]
  },
  {
   "cell_type": "code",
   "execution_count": 69,
   "metadata": {},
   "outputs": [
    {
     "data": {
      "text/plain": [
       "False    34038\n",
       "True      1425\n",
       "Name: interesting_removal_2, dtype: int64"
      ]
     },
     "execution_count": 69,
     "metadata": {},
     "output_type": "execute_result"
    }
   ],
   "source": [
    "df['interesting_removal_2'].value_counts(dropna=False)"
   ]
  },
  {
   "cell_type": "markdown",
   "metadata": {},
   "source": [
    "***\n",
    "# Zeroes and Ones"
   ]
  },
  {
   "cell_type": "code",
   "execution_count": 70,
   "metadata": {},
   "outputs": [],
   "source": [
    "df.replace(to_replace=True, value=1, inplace=True)\n",
    "df.replace(to_replace=False, value=0, inplace=True)"
   ]
  },
  {
   "cell_type": "markdown",
   "metadata": {},
   "source": [
    "***\n",
    "# Profanity"
   ]
  },
  {
   "cell_type": "code",
   "execution_count": 71,
   "metadata": {},
   "outputs": [],
   "source": [
    "# Profane True/False\n",
    "highly_profane_words = pd.read_csv('highly_profanic_words.csv', encoding='utf8')['words'].to_list()\n",
    "\n",
    "def is_profane(x):\n",
    "    for word in highly_profane_words:\n",
    "        if word in x:\n",
    "            return 1\n",
    "    return 0\n",
    "\n",
    "df['highly_likely_profanity'] = df['videoTitle'].apply(is_profane)"
   ]
  },
  {
   "cell_type": "code",
   "execution_count": 72,
   "metadata": {},
   "outputs": [],
   "source": [
    "# Profane probabilities\n",
    "titles_list = df['videoTitle'].to_list()\n",
    "df['profanity_probability'] = predict_prob(titles_list)"
   ]
  },
  {
   "cell_type": "code",
   "execution_count": 73,
   "metadata": {},
   "outputs": [
    {
     "data": {
      "text/plain": [
       "(35463, 51)"
      ]
     },
     "execution_count": 73,
     "metadata": {},
     "output_type": "execute_result"
    }
   ],
   "source": [
    "df.shape"
   ]
  },
  {
   "cell_type": "markdown",
   "metadata": {},
   "source": [
    "***\n",
    "# Sampling\n",
    "\n",
    "- need to have datasets representing real distribution of removed/unremoved, even split unremoved and removed, and even split interesting removed and unremoved\n",
    "- different percentages of sets\n",
    "***"
   ]
  },
  {
   "cell_type": "code",
   "execution_count": 74,
   "metadata": {},
   "outputs": [],
   "source": [
    "df_copy = df.copy()"
   ]
  },
  {
   "cell_type": "code",
   "execution_count": 75,
   "metadata": {},
   "outputs": [
    {
     "data": {
      "text/plain": [
       "UC75HVYVE-wYHGQlc4w3-GGw    6\n",
       "UCzGr-CxfTv4TriTWENmfDVA    5\n",
       "UC26QBHhU7My5DyD4WTXqwSg    4\n",
       "UCKFUW_CSc1CkXC86HulGdAA    1\n",
       "UCbP5yp0-oudHyy9Rptm-dRA    1\n",
       "Name: channelId, dtype: int64"
      ]
     },
     "execution_count": 75,
     "metadata": {},
     "output_type": "execute_result"
    }
   ],
   "source": [
    "# two channels have only one video.\n",
    "# these must be removed because we can't stratify on channelId if we keep them\n",
    "df_copy['channelId'].value_counts().tail()"
   ]
  },
  {
   "cell_type": "code",
   "execution_count": 76,
   "metadata": {},
   "outputs": [
    {
     "name": "stdout",
     "output_type": "stream",
     "text": [
      "Before shape: 35,463\n",
      "After shape: 35,461\n"
     ]
    }
   ],
   "source": [
    "# removing two channels with count == 1\n",
    "print(f'Before shape: {df_copy.shape[0]:,}')\n",
    "df_copy = df_copy[(df_copy['channelId'] != \"UCbP5yp0-oudHyy9Rptm-dRA\") & (df_copy['channelId'] != \"UCKFUW_CSc1CkXC86HulGdAA\")]\n",
    "print(f'After shape: {df_copy.shape[0]:,}')"
   ]
  },
  {
   "cell_type": "code",
   "execution_count": 77,
   "metadata": {},
   "outputs": [
    {
     "data": {
      "text/plain": [
       "UC3XTzVzaHQEd30rQbuvCtTQ    39\n",
       "UCDmCBKaKOtOrEqgsL4-3C8Q    29\n",
       "UC75HVYVE-wYHGQlc4w3-GGw     6\n",
       "UCzGr-CxfTv4TriTWENmfDVA     5\n",
       "UC26QBHhU7My5DyD4WTXqwSg     4\n",
       "Name: channelId, dtype: int64"
      ]
     },
     "execution_count": 77,
     "metadata": {},
     "output_type": "execute_result"
    }
   ],
   "source": [
    "df_copy['channelId'].value_counts().tail()"
   ]
  },
  {
   "cell_type": "markdown",
   "metadata": {},
   "source": [
    "## Sampling strategy 1\n",
    "- Proportion of removed-unremoved is same as actual dataset\n",
    "- Stratified by channel"
   ]
  },
  {
   "cell_type": "code",
   "execution_count": 78,
   "metadata": {},
   "outputs": [],
   "source": [
    "# Creates a DF, stratified by channelId, such that the proportion of interesting_removal_2 == True equals that of the whole dataset\n",
    "def sample_strat_1(pct_of_df, ratio_of_train, ratio_of_test):\n",
    "    ratio_of_train = pct_of_df * ratio_of_train\n",
    "    ratio_of_test = pct_of_df * ratio_of_test\n",
    "    \n",
    "    # leave original DF unchanged\n",
    "    df_copy = df.copy()\n",
    "    \n",
    "    # removing two channels with count == 1\n",
    "    df_copy = df_copy[(df_copy['channelId'] != \"UCbP5yp0-oudHyy9Rptm-dRA\") & (df_copy['channelId'] != \"UCKFUW_CSc1CkXC86HulGdAA\")]\n",
    "\n",
    "    print(f\"- Original proportion interesting_removal to not: {round(df_copy[df_copy['interesting_removal_2']==True].shape[0] / df_copy[df_copy['interesting_removal_2']==False].shape[0], 2)}\")\n",
    "\n",
    "    # separate X and y\n",
    "    y = df_copy.pop('interesting_removal_2')\n",
    "    X = df_copy\n",
    "    \n",
    "    # test_train split\n",
    "    global X_train, X_test, y_train, y_test\n",
    "    X_train, X_test, y_train, y_test = train_test_split(X, y, \n",
    "                                                        test_size = ratio_of_test, \n",
    "                                                        train_size = ratio_of_train,\n",
    "                                                        stratify = X['channelId'])\n",
    "    \n",
    "    # show sizes\n",
    "    print(f'Sampled {int(pct_of_df * 100)}% of df.')\n",
    "    print(f'- Length of X_train: {len(X_train):,}')\n",
    "    print(f'- Length of y_train: {len(y_train):,}')\n",
    "    print(f'- Length of X_test: {len(X_test):,}')\n",
    "    print(f'- Length of y_test: {len(y_test):,}')\n",
    "    print(f\"- Proportion interesting_removal to not: {round(y_train.value_counts().loc[1] / y_train.value_counts().loc[0], 2)}\")"
   ]
  },
  {
   "cell_type": "code",
   "execution_count": 79,
   "metadata": {},
   "outputs": [
    {
     "name": "stdout",
     "output_type": "stream",
     "text": [
      "- Original proportion interesting_removal to not: 0.04\n",
      "Sampled 100% of df.\n",
      "- Length of X_train: 28,368\n",
      "- Length of y_train: 28,368\n",
      "- Length of X_test: 7,093\n",
      "- Length of y_test: 7,093\n",
      "- Proportion interesting_removal to not: 0.04\n"
     ]
    }
   ],
   "source": [
    "sample_strat_1(pct_of_df=1, \n",
    "               ratio_of_train=.8, \n",
    "               ratio_of_test=.2)"
   ]
  },
  {
   "cell_type": "code",
   "execution_count": 80,
   "metadata": {},
   "outputs": [
    {
     "data": {
      "image/png": "[encoded data removed]",
      "text/plain": [
       "<Figure size 1080x508.5 with 1 Axes>"
      ]
     },
     "metadata": {},
     "output_type": "display_data"
    }
   ],
   "source": [
    "# 100% of representative samples\n",
    "\n",
    "fig = plt.figure(figsize=(15, 7.0625))\n",
    "ax1 = fig.subplots()\n",
    "\n",
    "ratios = list(y_train.value_counts())\n",
    "labels = ['Unremoved or Uninteresting Removals', 'Interesting Removals']\n",
    "\n",
    "angle = -180 * ratios[0]\n",
    "explode = (0, 0.1)\n",
    "\n",
    "ax1.pie(ratios, explode=explode, labels=labels, autopct='%1.1f%%',\n",
    "        shadow=True, startangle=90)\n",
    "\n",
    "ax1.legend(labels=labels, bbox_to_anchor=(1,0.5), loc=\"center right\", fontsize=12, \n",
    "           bbox_transform=plt.gcf().transFigure)\n",
    "\n",
    "plt.savefig('100% of representative samples.png',bbox_inches='tight', dpi=150)\n",
    "plt.show()"
   ]
  },
  {
   "cell_type": "markdown",
   "metadata": {},
   "source": [
    "## Sampling strategy 2\n",
    "- Let count of removals = y\n",
    "- Take an amount of unremoved videos == y\n",
    "- We don't actually use this sampling strategy in the paper due to data limitations."
   ]
  },
  {
   "cell_type": "code",
   "execution_count": 81,
   "metadata": {},
   "outputs": [],
   "source": [
    "# Creates a DF, stratified by channelId, such that the number of removal == True equals the number of removal == False\n",
    "def equal_proportion_df_strat_2():\n",
    "    global df_sample_strat_2\n",
    "    \n",
    "    # leave original DF unchanged\n",
    "    df_copy = df.copy()\n",
    "\n",
    "    # removing two channels with count == 1\n",
    "    df_copy = df_copy[(df_copy['channelId'] != \"UCbP5yp0-oudHyy9Rptm-dRA\") & (df_copy['channelId'] != \"UCKFUW_CSc1CkXC86HulGdAA\")]\n",
    "\n",
    "    # Length is equal to where removed == True\n",
    "    length = df_copy[df_copy['removed']==True].shape[0]\n",
    "\n",
    "    # Sample until we have no channels with only one example\n",
    "    while True:\n",
    "        sample = df_copy[df_copy['removed']==False].sample(n=length)\n",
    "        if sample['channelId'].value_counts().tail()[-1] > 1:\n",
    "            break\n",
    "\n",
    "    df_sample_strat_2 = pd.concat([df_copy[df_copy['removed']==True], sample])\n",
    "    print(f\"Length of DF to be sampled: {df_sample_strat_2.shape[0]:,}\")\n",
    "    print(f\"# of which are removed == True: {length:,}.\")\n",
    "    print(\"*\" * 30)"
   ]
  },
  {
   "cell_type": "code",
   "execution_count": 82,
   "metadata": {},
   "outputs": [
    {
     "name": "stdout",
     "output_type": "stream",
     "text": [
      "Length of DF to be sampled: 14,606\n",
      "# of which are removed == True: 7,303.\n",
      "******************************\n"
     ]
    }
   ],
   "source": [
    "equal_proportion_df_strat_2()"
   ]
  },
  {
   "cell_type": "code",
   "execution_count": 83,
   "metadata": {},
   "outputs": [],
   "source": [
    "# Creates train-test split\n",
    "# removed == True and removed == False will be of equal number\n",
    "def sample_strat_2(pct_of_df, ratio_of_train, ratio_of_test):\n",
    "    equal_proportion_df_strat_2()\n",
    "    \n",
    "    ratio_of_train = pct_of_df * ratio_of_train\n",
    "    ratio_of_test = pct_of_df * ratio_of_test\n",
    "\n",
    "    print(f\"- Original proportion removed to not: {round(df_sample_strat_2[df_sample_strat_2['removed']==True].shape[0] / df_sample_strat_2[df_sample_strat_2['removed']==False].shape[0], 2)}\")\n",
    "\n",
    "    # separate X and y\n",
    "    y = df_sample_strat_2.pop('removed')\n",
    "    X = df_sample_strat_2\n",
    "    \n",
    "    # test_train split\n",
    "    global X_train, X_test, y_train, y_test\n",
    "    X_train, X_test, y_train, y_test = train_test_split(X, y, \n",
    "                                                        test_size = ratio_of_test, \n",
    "                                                        train_size = ratio_of_train,\n",
    "                                                        stratify = X['channelId'])\n",
    "    \n",
    "    # show sizes\n",
    "    print(f'Sampled {int(pct_of_df * 100)}% of df.')\n",
    "    print(f'- Length of X_train: {len(X_train):,}')\n",
    "    print(f'- Length of y_train: {len(y_train):,}')\n",
    "    print(f'- Length of X_test: {len(X_test):,}')\n",
    "    print(f'- Length of y_test: {len(y_test):,}')\n",
    "    print(f\"- Sample proportion removed to not: {round(y_train.value_counts().loc[0] / y_train.value_counts().loc[1], 2)}\")"
   ]
  },
  {
   "cell_type": "code",
   "execution_count": 84,
   "metadata": {},
   "outputs": [
    {
     "name": "stdout",
     "output_type": "stream",
     "text": [
      "Length of DF to be sampled: 14,606\n",
      "# of which are removed == True: 7,303.\n",
      "******************************\n",
      "- Original proportion removed to not: 1.0\n",
      "Sampled 100% of df.\n",
      "- Length of X_train: 11,684\n",
      "- Length of y_train: 11,684\n",
      "- Length of X_test: 2,922\n",
      "- Length of y_test: 2,922\n",
      "- Sample proportion removed to not: 1.01\n"
     ]
    }
   ],
   "source": [
    "# Example run\n",
    "sample_strat_2(pct_of_df=1, \n",
    "               ratio_of_train=.8, \n",
    "               ratio_of_test=.2)"
   ]
  },
  {
   "cell_type": "markdown",
   "metadata": {},
   "source": [
    "## Sampling strategy 3\n",
    "- Let count of interesting removals = y\n",
    "- Take an amount of unremoved videos == y"
   ]
  },
  {
   "cell_type": "code",
   "execution_count": 85,
   "metadata": {},
   "outputs": [],
   "source": [
    "# Creates a DF, stratified by channelId, such that the number of interesting_removal_2 == True equals the number of interesting_removal_2 == False\n",
    "def equal_proportion_df_strat_3():\n",
    "    global df_sample_strat_3\n",
    "    \n",
    "    # leave original DF unchanged\n",
    "    df_copy = df.copy()\n",
    "\n",
    "    # removing two channels with count == 1\n",
    "    df_copy = df_copy[(df_copy['channelId'] != \"UCbP5yp0-oudHyy9Rptm-dRA\") & (df_copy['channelId'] != \"UCKFUW_CSc1CkXC86HulGdAA\")]\n",
    "\n",
    "    # Length is equal to where interesting_removal_2 == True\n",
    "    length = df_copy[df_copy['interesting_removal_2']==True].shape[0]\n",
    "\n",
    "    # Sample until we have no channels with only one example\n",
    "    while True:\n",
    "        sample = df_copy[df_copy['interesting_removal_2']==False].sample(n=length)\n",
    "        if sample['channelId'].value_counts().tail()[-1] > 1:\n",
    "            break\n",
    "\n",
    "    df_sample_strat_3 = pd.concat([df_copy[df_copy['interesting_removal_2']==True], sample])\n",
    "    print(f\"Length of DF to be sampled: {df_sample_strat_3.shape[0]:,}\")\n",
    "    print(f\"# of which are interesting_removal_2 == True: {length:,}.\")\n",
    "    print(\"*\" * 30)"
   ]
  },
  {
   "cell_type": "code",
   "execution_count": 86,
   "metadata": {},
   "outputs": [],
   "source": [
    "# Creates train-test split\n",
    "def sample_strat_3(pct_of_df, ratio_of_train, ratio_of_test):\n",
    "    equal_proportion_df_strat_3()\n",
    "    \n",
    "    ratio_of_train = pct_of_df * ratio_of_train\n",
    "    ratio_of_test = pct_of_df * ratio_of_test\n",
    "\n",
    "    print(f\"- Original proportion interesting_removal_2 to not: {round(df_sample_strat_3[df_sample_strat_3['interesting_removal_2']==True].shape[0] / df_sample_strat_3[df_sample_strat_3['interesting_removal_2']==False].shape[0], 2)}\")\n",
    "\n",
    "    # separate X and y\n",
    "    y = df_sample_strat_3.pop('interesting_removal_2')\n",
    "    X = df_sample_strat_3\n",
    "    \n",
    "    # test_train split\n",
    "    global X_train, X_test, y_train, y_test\n",
    "    X_train, X_test, y_train, y_test = train_test_split(X, y, \n",
    "                                                        test_size = ratio_of_test, \n",
    "                                                        train_size = ratio_of_train,\n",
    "                                                        stratify = y)\n",
    "    \n",
    "    # show sizes\n",
    "    print(f'Sampled {int(pct_of_df * 100)}% of df.')\n",
    "    print(f'- Length of X_train: {len(X_train):,}')\n",
    "    print(f'- Length of y_train: {len(y_train):,}')\n",
    "    print(f'- Length of X_test: {len(X_test):,}')\n",
    "    print(f'- Length of y_test: {len(y_test):,}')\n",
    "    print(f\"- Proportion interesting_removal to not: {round(y_train.value_counts().loc[1] / y_train.value_counts().loc[0], 2)}\")"
   ]
  },
  {
   "cell_type": "code",
   "execution_count": 87,
   "metadata": {},
   "outputs": [
    {
     "name": "stdout",
     "output_type": "stream",
     "text": [
      "Length of DF to be sampled: 2,850\n",
      "# of which are interesting_removal_2 == True: 1,425.\n",
      "******************************\n",
      "- Original proportion interesting_removal_2 to not: 1.0\n",
      "Sampled 100% of df.\n",
      "- Length of X_train: 2,280\n",
      "- Length of y_train: 2,280\n",
      "- Length of X_test: 570\n",
      "- Length of y_test: 570\n",
      "- Proportion interesting_removal to not: 1.0\n"
     ]
    }
   ],
   "source": [
    "# Example run\n",
    "sample_strat_3(pct_of_df=1, \n",
    "               ratio_of_train=.8, \n",
    "               ratio_of_test=.2)"
   ]
  },
  {
   "cell_type": "code",
   "execution_count": 88,
   "metadata": {},
   "outputs": [
    {
     "data": {
      "image/png": "[encoded data removed]",
      "text/plain": [
       "<Figure size 1080x508.5 with 1 Axes>"
      ]
     },
     "metadata": {},
     "output_type": "display_data"
    }
   ],
   "source": [
    "# 100% of even split samples\n",
    "\n",
    "fig = plt.figure(figsize=(15, 7.0625))\n",
    "ax1 = fig.subplots()\n",
    "\n",
    "ratios = list(y_train.value_counts())\n",
    "labels = ['Unremoved or Uninteresting Removals', 'Interesting Removals']\n",
    "\n",
    "angle = -180 * ratios[0]\n",
    "explode = (0, 0.1)\n",
    "\n",
    "ax1.pie(ratios, explode=explode, labels=labels, autopct='%1.1f%%',\n",
    "        shadow=True, startangle=90)\n",
    "\n",
    "ax1.legend(labels=labels, bbox_to_anchor=(1,0.6), loc=\"center right\", fontsize=12, \n",
    "           bbox_transform=plt.gcf().transFigure)\n",
    "\n",
    "plt.savefig('100% of even split samples.png',bbox_inches='tight', dpi=150)\n",
    "plt.show()"
   ]
  },
  {
   "cell_type": "markdown",
   "metadata": {},
   "source": [
    "***\n",
    "# Exporting"
   ]
  },
  {
   "cell_type": "code",
   "execution_count": 108,
   "metadata": {},
   "outputs": [],
   "source": [
    "# main data folder\n",
    "os.makedirs(f'data_{date_today}', exist_ok=True)\n",
    "\n",
    "# navigate to main data folder\n",
    "os.chdir(f'data_{date_today}')\n",
    "\n",
    "# folder for representative samples\n",
    "os.makedirs('rep', exist_ok=True)\n",
    "\n",
    "# folder for stratified samples\n",
    "os.makedirs('even', exist_ok=True)"
   ]
  },
  {
   "cell_type": "markdown",
   "metadata": {},
   "source": [
    "### Representative samples"
   ]
  },
  {
   "cell_type": "code",
   "execution_count": 109,
   "metadata": {},
   "outputs": [],
   "source": [
    "os.chdir('rep')"
   ]
  },
  {
   "cell_type": "code",
   "execution_count": 110,
   "metadata": {},
   "outputs": [
    {
     "data": {
      "text/plain": [
       "False    224584\n",
       "Name: removed, dtype: int64"
      ]
     },
     "execution_count": 110,
     "metadata": {},
     "output_type": "execute_result"
    }
   ],
   "source": [
    "unremoved_videos_df['removed'].value_counts()"
   ]
  },
  {
   "cell_type": "code",
   "execution_count": 111,
   "metadata": {},
   "outputs": [
    {
     "data": {
      "text/plain": [
       "True    552651\n",
       "Name: removed, dtype: int64"
      ]
     },
     "execution_count": 111,
     "metadata": {},
     "output_type": "execute_result"
    }
   ],
   "source": [
    "df_removed['removed'].value_counts()"
   ]
  },
  {
   "cell_type": "code",
   "execution_count": 112,
   "metadata": {},
   "outputs": [
    {
     "data": {
      "text/plain": [
       "0    34038\n",
       "1     1425\n",
       "Name: interesting_removal_2, dtype: int64"
      ]
     },
     "execution_count": 112,
     "metadata": {},
     "output_type": "execute_result"
    }
   ],
   "source": [
    "df['interesting_removal_2'].value_counts()"
   ]
  },
  {
   "cell_type": "code",
   "execution_count": 113,
   "metadata": {},
   "outputs": [
    {
     "name": "stdout",
     "output_type": "stream",
     "text": [
      "- Original proportion interesting_removal to not: 0.04\n",
      "Sampled 10% of df.\n",
      "- Length of X_train: 2,836\n",
      "- Length of y_train: 2,836\n",
      "- Length of X_test: 710\n",
      "- Length of y_test: 710\n",
      "- Proportion interesting_removal to not: 0.04\n"
     ]
    }
   ],
   "source": [
    "# 10% of data\n",
    "os.makedirs('10',exist_ok=True)\n",
    "os.chdir('10')\n",
    "\n",
    "sample_strat_1(pct_of_df=.1, \n",
    "               ratio_of_train=.8, \n",
    "               ratio_of_test=.2)\n",
    "\n",
    "X_train.to_csv(f'X_train.csv', encoding='utf8')\n",
    "X_test.to_csv(f'X_test.csv', encoding='utf8')\n",
    "y_train.to_csv(f'y_train.csv', encoding='utf8')\n",
    "y_test.to_csv(f'y_test.csv', encoding='utf8')"
   ]
  },
  {
   "cell_type": "code",
   "execution_count": 114,
   "metadata": {},
   "outputs": [
    {
     "name": "stdout",
     "output_type": "stream",
     "text": [
      "D:\\UIUC\\Semester 2\\IS 517 Methods of Data Science\\Group Project\\50\\data_2022-05-09\\rep\n"
     ]
    }
   ],
   "source": [
    "os.chdir(os.path.dirname(os.getcwd()))\n",
    "print(os.getcwd())"
   ]
  },
  {
   "cell_type": "code",
   "execution_count": 115,
   "metadata": {},
   "outputs": [
    {
     "name": "stdout",
     "output_type": "stream",
     "text": [
      "- Original proportion interesting_removal to not: 0.04\n",
      "Sampled 50% of df.\n",
      "- Length of X_train: 14,184\n",
      "- Length of y_train: 14,184\n",
      "- Length of X_test: 3,547\n",
      "- Length of y_test: 3,547\n",
      "- Proportion interesting_removal to not: 0.04\n"
     ]
    }
   ],
   "source": [
    "# 50% of data\n",
    "os.makedirs('50', exist_ok=True)\n",
    "os.chdir('50')\n",
    "\n",
    "sample_strat_1(pct_of_df=.5, \n",
    "               ratio_of_train=.8, \n",
    "               ratio_of_test=.2)\n",
    "\n",
    "X_train.to_csv(f'X_train.csv', encoding='utf8')\n",
    "X_test.to_csv(f'X_test.csv', encoding='utf8')\n",
    "y_train.to_csv(f'y_train.csv', encoding='utf8')\n",
    "y_test.to_csv(f'y_test.csv', encoding='utf8')"
   ]
  },
  {
   "cell_type": "code",
   "execution_count": 116,
   "metadata": {},
   "outputs": [
    {
     "name": "stdout",
     "output_type": "stream",
     "text": [
      "D:\\UIUC\\Semester 2\\IS 517 Methods of Data Science\\Group Project\\50\\data_2022-05-09\\rep\n"
     ]
    }
   ],
   "source": [
    "os.chdir(os.path.dirname(os.getcwd()))\n",
    "print(os.getcwd())"
   ]
  },
  {
   "cell_type": "code",
   "execution_count": 117,
   "metadata": {},
   "outputs": [
    {
     "name": "stdout",
     "output_type": "stream",
     "text": [
      "- Original proportion interesting_removal to not: 0.04\n",
      "Sampled 100% of df.\n",
      "- Length of X_train: 28,368\n",
      "- Length of y_train: 28,368\n",
      "- Length of X_test: 7,093\n",
      "- Length of y_test: 7,093\n",
      "- Proportion interesting_removal to not: 0.04\n"
     ]
    }
   ],
   "source": [
    "# 100% of data\n",
    "os.makedirs('100', exist_ok=True)\n",
    "os.chdir('100')\n",
    "\n",
    "sample_strat_1(pct_of_df=1, \n",
    "               ratio_of_train=.8, \n",
    "               ratio_of_test=.2)\n",
    "\n",
    "X_train.to_csv(f'X_train.csv', encoding='utf8')\n",
    "X_test.to_csv(f'X_test.csv', encoding='utf8')\n",
    "y_train.to_csv(f'y_train.csv', encoding='utf8')\n",
    "y_test.to_csv(f'y_test.csv', encoding='utf8')"
   ]
  },
  {
   "cell_type": "code",
   "execution_count": 118,
   "metadata": {},
   "outputs": [
    {
     "name": "stdout",
     "output_type": "stream",
     "text": [
      "D:\\UIUC\\Semester 2\\IS 517 Methods of Data Science\\Group Project\\50\\data_2022-05-09\n"
     ]
    }
   ],
   "source": [
    "os.chdir(os.path.dirname(os.path.dirname(os.getcwd())))\n",
    "print(os.getcwd())"
   ]
  },
  {
   "cell_type": "markdown",
   "metadata": {},
   "source": [
    "### Even split samples"
   ]
  },
  {
   "cell_type": "code",
   "execution_count": 119,
   "metadata": {},
   "outputs": [],
   "source": [
    "os.chdir('even')"
   ]
  },
  {
   "cell_type": "code",
   "execution_count": 120,
   "metadata": {},
   "outputs": [
    {
     "name": "stdout",
     "output_type": "stream",
     "text": [
      "Length of DF to be sampled: 2,850\n",
      "# of which are interesting_removal_2 == True: 1,425.\n",
      "******************************\n",
      "- Original proportion interesting_removal_2 to not: 1.0\n",
      "Sampled 10% of df.\n",
      "- Length of X_train: 228\n",
      "- Length of y_train: 228\n",
      "- Length of X_test: 58\n",
      "- Length of y_test: 58\n",
      "- Proportion interesting_removal to not: 1.0\n"
     ]
    }
   ],
   "source": [
    "# 10% of data\n",
    "os.makedirs('10', exist_ok=True)\n",
    "os.chdir('10')\n",
    "\n",
    "sample_strat_3(pct_of_df=.1, \n",
    "               ratio_of_train=.8, \n",
    "               ratio_of_test=.2)\n",
    "\n",
    "X_train.to_csv(f'X_train.csv', encoding='utf8')\n",
    "X_test.to_csv(f'X_test.csv', encoding='utf8')\n",
    "y_train.to_csv(f'y_train.csv', encoding='utf8')\n",
    "y_test.to_csv(f'y_test.csv', encoding='utf8')"
   ]
  },
  {
   "cell_type": "code",
   "execution_count": 121,
   "metadata": {},
   "outputs": [
    {
     "name": "stdout",
     "output_type": "stream",
     "text": [
      "D:\\UIUC\\Semester 2\\IS 517 Methods of Data Science\\Group Project\\50\\data_2022-05-09\\even\n"
     ]
    }
   ],
   "source": [
    "os.chdir(os.path.dirname(os.getcwd()))\n",
    "print(os.getcwd())"
   ]
  },
  {
   "cell_type": "code",
   "execution_count": 122,
   "metadata": {},
   "outputs": [
    {
     "name": "stdout",
     "output_type": "stream",
     "text": [
      "Length of DF to be sampled: 2,850\n",
      "# of which are interesting_removal_2 == True: 1,425.\n",
      "******************************\n",
      "- Original proportion interesting_removal_2 to not: 1.0\n",
      "Sampled 50% of df.\n",
      "- Length of X_train: 1,140\n",
      "- Length of y_train: 1,140\n",
      "- Length of X_test: 285\n",
      "- Length of y_test: 285\n",
      "- Proportion interesting_removal to not: 1.0\n"
     ]
    }
   ],
   "source": [
    "# 50% of data\n",
    "os.makedirs('50', exist_ok=True)\n",
    "os.chdir('50')\n",
    "\n",
    "sample_strat_3(pct_of_df=.5, \n",
    "               ratio_of_train=.8, \n",
    "               ratio_of_test=.2)\n",
    "\n",
    "X_train.to_csv(f'X_train.csv', encoding='utf8')\n",
    "X_test.to_csv(f'X_test.csv', encoding='utf8')\n",
    "y_train.to_csv(f'y_train.csv', encoding='utf8')\n",
    "y_test.to_csv(f'y_test.csv', encoding='utf8')"
   ]
  },
  {
   "cell_type": "code",
   "execution_count": 123,
   "metadata": {},
   "outputs": [
    {
     "name": "stdout",
     "output_type": "stream",
     "text": [
      "D:\\UIUC\\Semester 2\\IS 517 Methods of Data Science\\Group Project\\50\\data_2022-05-09\\even\n"
     ]
    }
   ],
   "source": [
    "os.chdir(os.path.dirname(os.getcwd()))\n",
    "print(os.getcwd())"
   ]
  },
  {
   "cell_type": "code",
   "execution_count": 124,
   "metadata": {},
   "outputs": [
    {
     "name": "stdout",
     "output_type": "stream",
     "text": [
      "Length of DF to be sampled: 2,850\n",
      "# of which are interesting_removal_2 == True: 1,425.\n",
      "******************************\n",
      "- Original proportion interesting_removal_2 to not: 1.0\n",
      "Sampled 100% of df.\n",
      "- Length of X_train: 2,280\n",
      "- Length of y_train: 2,280\n",
      "- Length of X_test: 570\n",
      "- Length of y_test: 570\n",
      "- Proportion interesting_removal to not: 1.0\n"
     ]
    }
   ],
   "source": [
    "# 100% of data\n",
    "os.makedirs('100', exist_ok=True)\n",
    "os.chdir('100')\n",
    "\n",
    "sample_strat_3(pct_of_df=1, \n",
    "               ratio_of_train=.8, \n",
    "               ratio_of_test=.2)\n",
    "\n",
    "X_train.to_csv(f'X_train.csv', encoding='utf8')\n",
    "X_test.to_csv(f'X_test.csv', encoding='utf8')\n",
    "y_train.to_csv(f'y_train.csv', encoding='utf8')\n",
    "y_test.to_csv(f'y_test.csv', encoding='utf8')"
   ]
  },
  {
   "cell_type": "code",
   "execution_count": 125,
   "metadata": {},
   "outputs": [
    {
     "name": "stdout",
     "output_type": "stream",
     "text": [
      "D:\\UIUC\\Semester 2\\IS 517 Methods of Data Science\\Group Project\\50\n"
     ]
    }
   ],
   "source": [
    "os.chdir(os.path.dirname(os.path.dirname(os.path.dirname(os.getcwd()))))\n",
    "print(os.getcwd())"
   ]
  },
  {
   "cell_type": "code",
   "execution_count": 126,
   "metadata": {},
   "outputs": [
    {
     "data": {
      "text/plain": [
       "Removed by uploader     3921\n",
       "Private                 1958\n",
       "Unavailable             1400\n",
       "Community guidelines      20\n",
       "Copyright claim            3\n",
       "Terms of service           2\n",
       "Name: errorType, dtype: int64"
      ]
     },
     "execution_count": 126,
     "metadata": {},
     "output_type": "execute_result"
    }
   ],
   "source": [
    "df['errorType'].value_counts()"
   ]
  }
 ],
 "metadata": {
  "kernelspec": {
   "display_name": "Python 3 (ipykernel)",
   "language": "python",
   "name": "python3"
  },
  "language_info": {
   "codemirror_mode": {
    "name": "ipython",
    "version": 3
   },
   "file_extension": ".py",
   "mimetype": "text/x-python",
   "name": "python",
   "nbconvert_exporter": "python",
   "pygments_lexer": "ipython3",
   "version": "3.8.13"
  }
 },
 "nbformat": 4,
 "nbformat_minor": 4
}
